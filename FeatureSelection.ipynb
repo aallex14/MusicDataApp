{
 "cells": [
  {
   "cell_type": "code",
   "execution_count": 1,
   "metadata": {
    "collapsed": true
   },
   "outputs": [],
   "source": [
    "import pandas as pd"
   ]
  },
  {
   "cell_type": "code",
   "execution_count": 107,
   "metadata": {
    "collapsed": true
   },
   "outputs": [],
   "source": [
    "import numpy as np"
   ]
  },
  {
   "cell_type": "code",
   "execution_count": 2,
   "metadata": {
    "collapsed": false
   },
   "outputs": [
    {
     "name": "stderr",
     "output_type": "stream",
     "text": [
      "D:\\Anaconda\\lib\\site-packages\\IPython\\core\\interactiveshell.py:2717: DtypeWarning: Columns (2,3,7) have mixed types. Specify dtype option on import or set low_memory=False.\n",
      "  interactivity=interactivity, compiler=compiler, result=result)\n"
     ]
    }
   ],
   "source": [
    "df1 = pd.read_csv('sampledata.csv')"
   ]
  },
  {
   "cell_type": "code",
   "execution_count": 3,
   "metadata": {
    "collapsed": false
   },
   "outputs": [
    {
     "data": {
      "text/html": [
       "<div>\n",
       "<style>\n",
       "    .dataframe thead tr:only-child th {\n",
       "        text-align: right;\n",
       "    }\n",
       "\n",
       "    .dataframe thead th {\n",
       "        text-align: left;\n",
       "    }\n",
       "\n",
       "    .dataframe tbody tr th {\n",
       "        vertical-align: top;\n",
       "    }\n",
       "</style>\n",
       "<table border=\"1\" class=\"dataframe\">\n",
       "  <thead>\n",
       "    <tr style=\"text-align: right;\">\n",
       "      <th></th>\n",
       "      <th>uid</th>\n",
       "      <th>device</th>\n",
       "      <th>song_id</th>\n",
       "      <th>song_type</th>\n",
       "      <th>song_name</th>\n",
       "      <th>singer</th>\n",
       "      <th>play_time</th>\n",
       "      <th>song_length</th>\n",
       "      <th>paid_flag</th>\n",
       "      <th>file_name</th>\n",
       "      <th>date</th>\n",
       "      <th>label</th>\n",
       "    </tr>\n",
       "  </thead>\n",
       "  <tbody>\n",
       "    <tr>\n",
       "      <th>0</th>\n",
       "      <td>168551323.0</td>\n",
       "      <td>ar</td>\n",
       "      <td>1.68894e+07</td>\n",
       "      <td>0</td>\n",
       "      <td>一人饮酒醉唯美翻唱</td>\n",
       "      <td>沈雨萱</td>\n",
       "      <td>93</td>\n",
       "      <td>93</td>\n",
       "      <td>0.0</td>\n",
       "      <td>20170330_3_play.log</td>\n",
       "      <td>20170330.0</td>\n",
       "      <td>1</td>\n",
       "    </tr>\n",
       "    <tr>\n",
       "      <th>1</th>\n",
       "      <td>168542680.0</td>\n",
       "      <td>ar</td>\n",
       "      <td>0</td>\n",
       "      <td>1</td>\n",
       "      <td>心中的一道彩虹</td>\n",
       "      <td>何祺</td>\n",
       "      <td>284</td>\n",
       "      <td>285</td>\n",
       "      <td>0.0</td>\n",
       "      <td>20170330_3_play.log</td>\n",
       "      <td>20170330.0</td>\n",
       "      <td>0</td>\n",
       "    </tr>\n",
       "    <tr>\n",
       "      <th>2</th>\n",
       "      <td>168551542.0</td>\n",
       "      <td>ar</td>\n",
       "      <td>8.76228e+06</td>\n",
       "      <td>0</td>\n",
       "      <td>一笑倾城-(电视剧《微微一笑很倾城》片头曲)</td>\n",
       "      <td>汪苏泷</td>\n",
       "      <td>120</td>\n",
       "      <td>232</td>\n",
       "      <td>0.0</td>\n",
       "      <td>20170330_3_play.log</td>\n",
       "      <td>20170330.0</td>\n",
       "      <td>1</td>\n",
       "    </tr>\n",
       "    <tr>\n",
       "      <th>3</th>\n",
       "      <td>168549948.0</td>\n",
       "      <td>ar</td>\n",
       "      <td>2.30825e+07</td>\n",
       "      <td>0</td>\n",
       "      <td>高尚</td>\n",
       "      <td>薛之谦</td>\n",
       "      <td>205</td>\n",
       "      <td>318</td>\n",
       "      <td>0.0</td>\n",
       "      <td>20170330_3_play.log</td>\n",
       "      <td>20170330.0</td>\n",
       "      <td>1</td>\n",
       "    </tr>\n",
       "    <tr>\n",
       "      <th>4</th>\n",
       "      <td>168551120.0</td>\n",
       "      <td>ar</td>\n",
       "      <td>2.28585e+07</td>\n",
       "      <td>0</td>\n",
       "      <td>像梦一样自由 (Live)</td>\n",
       "      <td>汪峰</td>\n",
       "      <td>119</td>\n",
       "      <td>233</td>\n",
       "      <td>0.0</td>\n",
       "      <td>20170330_3_play.log</td>\n",
       "      <td>20170330.0</td>\n",
       "      <td>1</td>\n",
       "    </tr>\n",
       "  </tbody>\n",
       "</table>\n",
       "</div>"
      ],
      "text/plain": [
       "           uid device      song_id song_type               song_name singer  \\\n",
       "0  168551323.0     ar  1.68894e+07         0               一人饮酒醉唯美翻唱    沈雨萱   \n",
       "1  168542680.0     ar            0         1                 心中的一道彩虹     何祺   \n",
       "2  168551542.0     ar  8.76228e+06         0  一笑倾城-(电视剧《微微一笑很倾城》片头曲)    汪苏泷   \n",
       "3  168549948.0     ar  2.30825e+07         0                      高尚    薛之谦   \n",
       "4  168551120.0     ar  2.28585e+07         0           像梦一样自由 (Live)     汪峰   \n",
       "\n",
       "  play_time song_length  paid_flag             file_name        date  label  \n",
       "0        93          93        0.0   20170330_3_play.log  20170330.0      1  \n",
       "1       284         285        0.0   20170330_3_play.log  20170330.0      0  \n",
       "2       120         232        0.0   20170330_3_play.log  20170330.0      1  \n",
       "3       205         318        0.0   20170330_3_play.log  20170330.0      1  \n",
       "4       119         233        0.0   20170330_3_play.log  20170330.0      1  "
      ]
     },
     "execution_count": 3,
     "metadata": {},
     "output_type": "execute_result"
    }
   ],
   "source": [
    "df1.head()"
   ]
  },
  {
   "cell_type": "code",
   "execution_count": 4,
   "metadata": {
    "collapsed": false
   },
   "outputs": [
    {
     "data": {
      "text/plain": [
       "uid                0\n",
       "device             0\n",
       "song_id         3183\n",
       "song_type       7734\n",
       "song_name       3074\n",
       "singer         11708\n",
       "play_time       6173\n",
       "song_length    16924\n",
       "paid_flag      14956\n",
       "file_name      14956\n",
       "date           14956\n",
       "label              0\n",
       "dtype: int64"
      ]
     },
     "execution_count": 4,
     "metadata": {},
     "output_type": "execute_result"
    }
   ],
   "source": [
    "df1.isnull().sum()"
   ]
  },
  {
   "cell_type": "code",
   "execution_count": 6,
   "metadata": {
    "collapsed": false
   },
   "outputs": [
    {
     "data": {
      "text/plain": [
       "uid               0\n",
       "device            0\n",
       "song_id        3183\n",
       "song_type      6770\n",
       "song_name      2101\n",
       "singer         9449\n",
       "play_time      3914\n",
       "song_length    1969\n",
       "paid_flag         0\n",
       "file_name         0\n",
       "date              0\n",
       "label             0\n",
       "dtype: int64"
      ]
     },
     "execution_count": 6,
     "metadata": {},
     "output_type": "execute_result"
    }
   ],
   "source": [
    "df1 = df1.dropna(subset=['file_name'])\n",
    "df1.isnull().sum()"
   ]
  },
  {
   "cell_type": "code",
   "execution_count": 7,
   "metadata": {
    "collapsed": false
   },
   "outputs": [
    {
     "data": {
      "text/plain": [
       "uid               0\n",
       "device            0\n",
       "song_id        1214\n",
       "song_type      4801\n",
       "song_name       137\n",
       "singer         7484\n",
       "play_time         0\n",
       "song_length       0\n",
       "paid_flag         0\n",
       "file_name         0\n",
       "date              0\n",
       "label             0\n",
       "dtype: int64"
      ]
     },
     "execution_count": 7,
     "metadata": {},
     "output_type": "execute_result"
    }
   ],
   "source": [
    "df1 = df1.dropna(subset=['play_time'])\n",
    "df1.isnull().sum()"
   ]
  },
  {
   "cell_type": "markdown",
   "metadata": {},
   "source": [
    "#### Song_id is used to calculate popularity score, Song_type is used to calculate number of genre, Song_name is used to calculate language. Song_type might be hard to determined sometimes so I just keep missing values of song type, therefore assign them 5 as the unknown type "
   ]
  },
  {
   "cell_type": "code",
   "execution_count": 10,
   "metadata": {
    "collapsed": false
   },
   "outputs": [
    {
     "data": {
      "text/plain": [
       "(6653680, 12)"
      ]
     },
     "execution_count": 10,
     "metadata": {},
     "output_type": "execute_result"
    }
   ],
   "source": [
    "df1.shape"
   ]
  },
  {
   "cell_type": "code",
   "execution_count": 12,
   "metadata": {
    "collapsed": false
   },
   "outputs": [
    {
     "data": {
      "text/plain": [
       "uid               0\n",
       "device            0\n",
       "song_id           0\n",
       "song_type      3587\n",
       "song_name         0\n",
       "singer         7445\n",
       "play_time         0\n",
       "song_length       0\n",
       "paid_flag         0\n",
       "file_name         0\n",
       "date              0\n",
       "label             0\n",
       "dtype: int64"
      ]
     },
     "execution_count": 12,
     "metadata": {},
     "output_type": "execute_result"
    }
   ],
   "source": [
    "df1 = df1.dropna(subset=['song_id'])\n",
    "df1 = df1.dropna(subset=['song_name'])\n",
    "df1.isnull().sum()"
   ]
  },
  {
   "cell_type": "code",
   "execution_count": 13,
   "metadata": {
    "collapsed": true
   },
   "outputs": [],
   "source": [
    "df1.loc[df1.song_type.isnull(),'song_type'] = 5"
   ]
  },
  {
   "cell_type": "code",
   "execution_count": 14,
   "metadata": {
    "collapsed": false
   },
   "outputs": [
    {
     "data": {
      "text/html": [
       "<div>\n",
       "<style>\n",
       "    .dataframe thead tr:only-child th {\n",
       "        text-align: right;\n",
       "    }\n",
       "\n",
       "    .dataframe thead th {\n",
       "        text-align: left;\n",
       "    }\n",
       "\n",
       "    .dataframe tbody tr th {\n",
       "        vertical-align: top;\n",
       "    }\n",
       "</style>\n",
       "<table border=\"1\" class=\"dataframe\">\n",
       "  <thead>\n",
       "    <tr style=\"text-align: right;\">\n",
       "      <th></th>\n",
       "      <th>uid</th>\n",
       "      <th>device</th>\n",
       "      <th>song_id</th>\n",
       "      <th>song_type</th>\n",
       "      <th>song_name</th>\n",
       "      <th>singer</th>\n",
       "      <th>play_time</th>\n",
       "      <th>song_length</th>\n",
       "      <th>paid_flag</th>\n",
       "      <th>file_name</th>\n",
       "      <th>date</th>\n",
       "      <th>label</th>\n",
       "    </tr>\n",
       "  </thead>\n",
       "  <tbody>\n",
       "    <tr>\n",
       "      <th>0</th>\n",
       "      <td>168551323.0</td>\n",
       "      <td>ar</td>\n",
       "      <td>1.68894e+07</td>\n",
       "      <td>0</td>\n",
       "      <td>一人饮酒醉唯美翻唱</td>\n",
       "      <td>沈雨萱</td>\n",
       "      <td>93</td>\n",
       "      <td>93</td>\n",
       "      <td>0.0</td>\n",
       "      <td>20170330_3_play.log</td>\n",
       "      <td>20170330.0</td>\n",
       "      <td>1</td>\n",
       "    </tr>\n",
       "    <tr>\n",
       "      <th>1</th>\n",
       "      <td>168542680.0</td>\n",
       "      <td>ar</td>\n",
       "      <td>0</td>\n",
       "      <td>1</td>\n",
       "      <td>心中的一道彩虹</td>\n",
       "      <td>何祺</td>\n",
       "      <td>284</td>\n",
       "      <td>285</td>\n",
       "      <td>0.0</td>\n",
       "      <td>20170330_3_play.log</td>\n",
       "      <td>20170330.0</td>\n",
       "      <td>0</td>\n",
       "    </tr>\n",
       "    <tr>\n",
       "      <th>2</th>\n",
       "      <td>168551542.0</td>\n",
       "      <td>ar</td>\n",
       "      <td>8.76228e+06</td>\n",
       "      <td>0</td>\n",
       "      <td>一笑倾城-(电视剧《微微一笑很倾城》片头曲)</td>\n",
       "      <td>汪苏泷</td>\n",
       "      <td>120</td>\n",
       "      <td>232</td>\n",
       "      <td>0.0</td>\n",
       "      <td>20170330_3_play.log</td>\n",
       "      <td>20170330.0</td>\n",
       "      <td>1</td>\n",
       "    </tr>\n",
       "    <tr>\n",
       "      <th>3</th>\n",
       "      <td>168549948.0</td>\n",
       "      <td>ar</td>\n",
       "      <td>2.30825e+07</td>\n",
       "      <td>0</td>\n",
       "      <td>高尚</td>\n",
       "      <td>薛之谦</td>\n",
       "      <td>205</td>\n",
       "      <td>318</td>\n",
       "      <td>0.0</td>\n",
       "      <td>20170330_3_play.log</td>\n",
       "      <td>20170330.0</td>\n",
       "      <td>1</td>\n",
       "    </tr>\n",
       "    <tr>\n",
       "      <th>4</th>\n",
       "      <td>168551120.0</td>\n",
       "      <td>ar</td>\n",
       "      <td>2.28585e+07</td>\n",
       "      <td>0</td>\n",
       "      <td>像梦一样自由 (Live)</td>\n",
       "      <td>汪峰</td>\n",
       "      <td>119</td>\n",
       "      <td>233</td>\n",
       "      <td>0.0</td>\n",
       "      <td>20170330_3_play.log</td>\n",
       "      <td>20170330.0</td>\n",
       "      <td>1</td>\n",
       "    </tr>\n",
       "  </tbody>\n",
       "</table>\n",
       "</div>"
      ],
      "text/plain": [
       "           uid device      song_id song_type               song_name singer  \\\n",
       "0  168551323.0     ar  1.68894e+07         0               一人饮酒醉唯美翻唱    沈雨萱   \n",
       "1  168542680.0     ar            0         1                 心中的一道彩虹     何祺   \n",
       "2  168551542.0     ar  8.76228e+06         0  一笑倾城-(电视剧《微微一笑很倾城》片头曲)    汪苏泷   \n",
       "3  168549948.0     ar  2.30825e+07         0                      高尚    薛之谦   \n",
       "4  168551120.0     ar  2.28585e+07         0           像梦一样自由 (Live)     汪峰   \n",
       "\n",
       "  play_time song_length  paid_flag             file_name        date  label  \n",
       "0        93          93        0.0   20170330_3_play.log  20170330.0      1  \n",
       "1       284         285        0.0   20170330_3_play.log  20170330.0      0  \n",
       "2       120         232        0.0   20170330_3_play.log  20170330.0      1  \n",
       "3       205         318        0.0   20170330_3_play.log  20170330.0      1  \n",
       "4       119         233        0.0   20170330_3_play.log  20170330.0      1  "
      ]
     },
     "execution_count": 14,
     "metadata": {},
     "output_type": "execute_result"
    }
   ],
   "source": [
    "df1.head()"
   ]
  },
  {
   "cell_type": "markdown",
   "metadata": {},
   "source": [
    "### Create User Matrix"
   ]
  },
  {
   "cell_type": "code",
   "execution_count": 15,
   "metadata": {
    "collapsed": true
   },
   "outputs": [],
   "source": [
    "unique_user_list = df1.uid.unique()"
   ]
  },
  {
   "cell_type": "code",
   "execution_count": 17,
   "metadata": {
    "collapsed": true
   },
   "outputs": [],
   "source": [
    "user_matrix = pd.DataFrame({'user': unique_user_list})"
   ]
  },
  {
   "cell_type": "code",
   "execution_count": 18,
   "metadata": {
    "collapsed": true
   },
   "outputs": [],
   "source": [
    "df1['for_count'] = 1"
   ]
  },
  {
   "cell_type": "code",
   "execution_count": 19,
   "metadata": {
    "collapsed": true
   },
   "outputs": [],
   "source": [
    "play_count = df1[['uid', 'for_count']].groupby(['uid']).count()"
   ]
  },
  {
   "cell_type": "code",
   "execution_count": 24,
   "metadata": {
    "collapsed": true
   },
   "outputs": [],
   "source": [
    "user_matrix = play_count.reset_index()"
   ]
  },
  {
   "cell_type": "code",
   "execution_count": 26,
   "metadata": {
    "collapsed": false
   },
   "outputs": [
    {
     "data": {
      "text/plain": [
       "(25390, 3)"
      ]
     },
     "execution_count": 26,
     "metadata": {},
     "output_type": "execute_result"
    }
   ],
   "source": [
    "play_count = 0\n",
    "user_matrix.shape"
   ]
  },
  {
   "cell_type": "markdown",
   "metadata": {},
   "source": [
    "### Create preferred device"
   ]
  },
  {
   "cell_type": "code",
   "execution_count": 27,
   "metadata": {
    "collapsed": true
   },
   "outputs": [],
   "source": [
    "a = df1[['uid', 'device']].groupby(['uid', 'device']).size().reset_index().rename(columns={0:'count'})"
   ]
  },
  {
   "cell_type": "code",
   "execution_count": 39,
   "metadata": {
    "collapsed": true
   },
   "outputs": [],
   "source": [
    "def favorite(a, b):\n",
    "#     define halftime device means that the favorite\n",
    "    if a > 0.5 * b:\n",
    "        return 'ar'\n",
    "    else:\n",
    "        return 'ip'\n",
    "def favorite2(a, b):\n",
    "#     define halftime device means that the favorite\n",
    "    if a < 0.5 * b:\n",
    "        return 'ar'\n",
    "    else:\n",
    "        return 'ip'"
   ]
  },
  {
   "cell_type": "code",
   "execution_count": 29,
   "metadata": {
    "collapsed": true
   },
   "outputs": [],
   "source": [
    "a = a.set_index(['uid']).join(user_matrix.set_index(['uid'])).reset_index()"
   ]
  },
  {
   "cell_type": "code",
   "execution_count": 30,
   "metadata": {
    "collapsed": false
   },
   "outputs": [
    {
     "data": {
      "text/html": [
       "<div>\n",
       "<style>\n",
       "    .dataframe thead tr:only-child th {\n",
       "        text-align: right;\n",
       "    }\n",
       "\n",
       "    .dataframe thead th {\n",
       "        text-align: left;\n",
       "    }\n",
       "\n",
       "    .dataframe tbody tr th {\n",
       "        vertical-align: top;\n",
       "    }\n",
       "</style>\n",
       "<table border=\"1\" class=\"dataframe\">\n",
       "  <thead>\n",
       "    <tr style=\"text-align: right;\">\n",
       "      <th></th>\n",
       "      <th>uid</th>\n",
       "      <th>device</th>\n",
       "      <th>count</th>\n",
       "      <th>index</th>\n",
       "      <th>for_count</th>\n",
       "    </tr>\n",
       "  </thead>\n",
       "  <tbody>\n",
       "    <tr>\n",
       "      <th>0</th>\n",
       "      <td>0.0</td>\n",
       "      <td>ar</td>\n",
       "      <td>193989</td>\n",
       "      <td>0</td>\n",
       "      <td>193989</td>\n",
       "    </tr>\n",
       "    <tr>\n",
       "      <th>1</th>\n",
       "      <td>533817.0</td>\n",
       "      <td>ar</td>\n",
       "      <td>82304</td>\n",
       "      <td>1</td>\n",
       "      <td>82304</td>\n",
       "    </tr>\n",
       "    <tr>\n",
       "      <th>2</th>\n",
       "      <td>751824.0</td>\n",
       "      <td>ar</td>\n",
       "      <td>7129</td>\n",
       "      <td>2</td>\n",
       "      <td>7129</td>\n",
       "    </tr>\n",
       "    <tr>\n",
       "      <th>3</th>\n",
       "      <td>924065.0</td>\n",
       "      <td>ar</td>\n",
       "      <td>29767</td>\n",
       "      <td>3</td>\n",
       "      <td>29767</td>\n",
       "    </tr>\n",
       "    <tr>\n",
       "      <th>4</th>\n",
       "      <td>1342999.0</td>\n",
       "      <td>ar</td>\n",
       "      <td>4004</td>\n",
       "      <td>4</td>\n",
       "      <td>4004</td>\n",
       "    </tr>\n",
       "  </tbody>\n",
       "</table>\n",
       "</div>"
      ],
      "text/plain": [
       "         uid device   count  index  for_count\n",
       "0        0.0     ar  193989      0     193989\n",
       "1   533817.0     ar   82304      1      82304\n",
       "2   751824.0     ar    7129      2       7129\n",
       "3   924065.0     ar   29767      3      29767\n",
       "4  1342999.0     ar    4004      4       4004"
      ]
     },
     "execution_count": 30,
     "metadata": {},
     "output_type": "execute_result"
    }
   ],
   "source": [
    "a.head()"
   ]
  },
  {
   "cell_type": "code",
   "execution_count": 32,
   "metadata": {
    "collapsed": false
   },
   "outputs": [
    {
     "data": {
      "text/plain": [
       "(21327, 5)"
      ]
     },
     "execution_count": 32,
     "metadata": {},
     "output_type": "execute_result"
    }
   ],
   "source": [
    "a[a['device'] == 'ar'].shape"
   ]
  },
  {
   "cell_type": "code",
   "execution_count": 33,
   "metadata": {
    "collapsed": false
   },
   "outputs": [
    {
     "data": {
      "text/plain": [
       "(25402, 5)"
      ]
     },
     "execution_count": 33,
     "metadata": {},
     "output_type": "execute_result"
    }
   ],
   "source": [
    "a.shape"
   ]
  },
  {
   "cell_type": "code",
   "execution_count": 34,
   "metadata": {
    "collapsed": false
   },
   "outputs": [
    {
     "data": {
      "text/plain": [
       "(25390, 3)"
      ]
     },
     "execution_count": 34,
     "metadata": {},
     "output_type": "execute_result"
    }
   ],
   "source": [
    "user_matrix.shape"
   ]
  },
  {
   "cell_type": "code",
   "execution_count": 36,
   "metadata": {
    "collapsed": true
   },
   "outputs": [],
   "source": [
    "a1 = a[a['device'] == 'ar']\n",
    "a2 = a[a['device'] == 'ip']"
   ]
  },
  {
   "cell_type": "code",
   "execution_count": 37,
   "metadata": {
    "collapsed": false
   },
   "outputs": [
    {
     "name": "stderr",
     "output_type": "stream",
     "text": [
      "D:\\Anaconda\\lib\\site-packages\\ipykernel\\__main__.py:1: SettingWithCopyWarning: \n",
      "A value is trying to be set on a copy of a slice from a DataFrame.\n",
      "Try using .loc[row_indexer,col_indexer] = value instead\n",
      "\n",
      "See the caveats in the documentation: http://pandas.pydata.org/pandas-docs/stable/indexing.html#indexing-view-versus-copy\n",
      "  if __name__ == '__main__':\n"
     ]
    }
   ],
   "source": [
    "a1['favorite_device'] = a1.apply(lambda row: favorite(row['count'], row['for_count']), axis = 1)"
   ]
  },
  {
   "cell_type": "code",
   "execution_count": 40,
   "metadata": {
    "collapsed": false
   },
   "outputs": [
    {
     "name": "stderr",
     "output_type": "stream",
     "text": [
      "D:\\Anaconda\\lib\\site-packages\\ipykernel\\__main__.py:1: SettingWithCopyWarning: \n",
      "A value is trying to be set on a copy of a slice from a DataFrame.\n",
      "Try using .loc[row_indexer,col_indexer] = value instead\n",
      "\n",
      "See the caveats in the documentation: http://pandas.pydata.org/pandas-docs/stable/indexing.html#indexing-view-versus-copy\n",
      "  if __name__ == '__main__':\n"
     ]
    }
   ],
   "source": [
    "a2['favorite_device'] = a2.apply(lambda row: favorite2(row['count'], row['for_count']), axis = 1)"
   ]
  },
  {
   "cell_type": "code",
   "execution_count": 41,
   "metadata": {
    "collapsed": true
   },
   "outputs": [],
   "source": [
    "a1 = a1.drop(a1[a1.favorite_device == 'ip'].index)\n",
    "a2 = a2.drop(a2[a2.favorite_device == 'ar'].index)"
   ]
  },
  {
   "cell_type": "code",
   "execution_count": 46,
   "metadata": {
    "collapsed": false
   },
   "outputs": [],
   "source": [
    "b = user_matrix"
   ]
  },
  {
   "cell_type": "code",
   "execution_count": 61,
   "metadata": {
    "collapsed": false
   },
   "outputs": [],
   "source": [
    "a = pd.concat([a1, a2])"
   ]
  },
  {
   "cell_type": "code",
   "execution_count": 62,
   "metadata": {
    "collapsed": false
   },
   "outputs": [],
   "source": [
    "user_matrix = a[['uid', 'for_count', 'favorite_device']]"
   ]
  },
  {
   "cell_type": "code",
   "execution_count": 63,
   "metadata": {
    "collapsed": false
   },
   "outputs": [
    {
     "data": {
      "text/plain": [
       "(25390, 3)"
      ]
     },
     "execution_count": 63,
     "metadata": {},
     "output_type": "execute_result"
    }
   ],
   "source": [
    "user_matrix.shape"
   ]
  },
  {
   "cell_type": "markdown",
   "metadata": {},
   "source": [
    "### Add churn label"
   ]
  },
  {
   "cell_type": "code",
   "execution_count": 64,
   "metadata": {
    "collapsed": true
   },
   "outputs": [],
   "source": [
    "example = df1.drop_duplicates(subset = 'uid')\n",
    "example = example[['uid', 'label']]"
   ]
  },
  {
   "cell_type": "code",
   "execution_count": 66,
   "metadata": {
    "collapsed": false
   },
   "outputs": [
    {
     "data": {
      "text/plain": [
       "(25390, 2)"
      ]
     },
     "execution_count": 66,
     "metadata": {},
     "output_type": "execute_result"
    }
   ],
   "source": [
    "example.shape"
   ]
  },
  {
   "cell_type": "code",
   "execution_count": 67,
   "metadata": {
    "collapsed": false
   },
   "outputs": [],
   "source": [
    "user_matrix = user_matrix.set_index(['uid']).join(example.set_index(['uid'])).reset_index()\n",
    "# user_matrix = user_matrix.set_index(['user']).join(a.set_index(['uid'])).reset_index()"
   ]
  },
  {
   "cell_type": "code",
   "execution_count": 68,
   "metadata": {
    "collapsed": false
   },
   "outputs": [
    {
     "data": {
      "text/html": [
       "<div>\n",
       "<style>\n",
       "    .dataframe thead tr:only-child th {\n",
       "        text-align: right;\n",
       "    }\n",
       "\n",
       "    .dataframe thead th {\n",
       "        text-align: left;\n",
       "    }\n",
       "\n",
       "    .dataframe tbody tr th {\n",
       "        vertical-align: top;\n",
       "    }\n",
       "</style>\n",
       "<table border=\"1\" class=\"dataframe\">\n",
       "  <thead>\n",
       "    <tr style=\"text-align: right;\">\n",
       "      <th></th>\n",
       "      <th>uid</th>\n",
       "      <th>for_count</th>\n",
       "      <th>favorite_device</th>\n",
       "      <th>label</th>\n",
       "    </tr>\n",
       "  </thead>\n",
       "  <tbody>\n",
       "    <tr>\n",
       "      <th>0</th>\n",
       "      <td>0.0</td>\n",
       "      <td>193989</td>\n",
       "      <td>ar</td>\n",
       "      <td>0</td>\n",
       "    </tr>\n",
       "    <tr>\n",
       "      <th>1</th>\n",
       "      <td>533817.0</td>\n",
       "      <td>82304</td>\n",
       "      <td>ar</td>\n",
       "      <td>0</td>\n",
       "    </tr>\n",
       "    <tr>\n",
       "      <th>2</th>\n",
       "      <td>751824.0</td>\n",
       "      <td>7129</td>\n",
       "      <td>ar</td>\n",
       "      <td>0</td>\n",
       "    </tr>\n",
       "    <tr>\n",
       "      <th>3</th>\n",
       "      <td>924065.0</td>\n",
       "      <td>29767</td>\n",
       "      <td>ar</td>\n",
       "      <td>0</td>\n",
       "    </tr>\n",
       "    <tr>\n",
       "      <th>4</th>\n",
       "      <td>1342999.0</td>\n",
       "      <td>4004</td>\n",
       "      <td>ar</td>\n",
       "      <td>0</td>\n",
       "    </tr>\n",
       "  </tbody>\n",
       "</table>\n",
       "</div>"
      ],
      "text/plain": [
       "         uid  for_count favorite_device  label\n",
       "0        0.0     193989              ar      0\n",
       "1   533817.0      82304              ar      0\n",
       "2   751824.0       7129              ar      0\n",
       "3   924065.0      29767              ar      0\n",
       "4  1342999.0       4004              ar      0"
      ]
     },
     "execution_count": 68,
     "metadata": {},
     "output_type": "execute_result"
    }
   ],
   "source": [
    "user_matrix.head()"
   ]
  },
  {
   "cell_type": "code",
   "execution_count": 85,
   "metadata": {
    "collapsed": true
   },
   "outputs": [],
   "source": [
    "user_matrix['favorite_device'] = user_matrix.favorite_device.apply(lambda x: 1 if x == 'ar' else 0)"
   ]
  },
  {
   "cell_type": "code",
   "execution_count": 87,
   "metadata": {
    "collapsed": true
   },
   "outputs": [],
   "source": [
    "b = user_matrix"
   ]
  },
  {
   "cell_type": "markdown",
   "metadata": {},
   "source": [
    "### song length and play time"
   ]
  },
  {
   "cell_type": "code",
   "execution_count": 70,
   "metadata": {
    "collapsed": true
   },
   "outputs": [],
   "source": [
    "df1['song_length'] = df1['song_length'].astype(str)"
   ]
  },
  {
   "cell_type": "code",
   "execution_count": 71,
   "metadata": {
    "collapsed": true
   },
   "outputs": [],
   "source": [
    "df1['song_length'] = df1['song_length'].apply(lambda symbol: \n",
    "                                              symbol.split('>')[0] \n",
    "                                              if '>' in symbol else symbol)"
   ]
  },
  {
   "cell_type": "code",
   "execution_count": 73,
   "metadata": {
    "collapsed": false
   },
   "outputs": [],
   "source": [
    "df1['song_length'] = df1['song_length'].astype(float)"
   ]
  },
  {
   "cell_type": "code",
   "execution_count": 78,
   "metadata": {
    "collapsed": false
   },
   "outputs": [],
   "source": [
    "df1['play_time'] = df1['play_time'].apply(lambda symbol: \n",
    "                                               symbol.split('>')[0]\n",
    "                                               if '>' in symbol else symbol)"
   ]
  },
  {
   "cell_type": "code",
   "execution_count": 80,
   "metadata": {
    "collapsed": false
   },
   "outputs": [],
   "source": [
    "def is_float(input):\n",
    "  try:\n",
    "    num = float(input)\n",
    "  except ValueError:\n",
    "    return True\n",
    "  return False\n",
    "\n",
    "def is_int(input):\n",
    "  try:\n",
    "    num = int(input)\n",
    "  except ValueError:\n",
    "    return True\n",
    "  return False"
   ]
  },
  {
   "cell_type": "code",
   "execution_count": 81,
   "metadata": {
    "collapsed": true
   },
   "outputs": [],
   "source": [
    "li = []\n",
    "for item in df1['play_time']:\n",
    "    if is_float(item) and is_int(item):\n",
    "       li.append(item)"
   ]
  },
  {
   "cell_type": "code",
   "execution_count": 82,
   "metadata": {
    "collapsed": false
   },
   "outputs": [
    {
     "data": {
      "text/plain": [
       "{'\\tTV\\xe3\\x82\\xa2\\xe3\\x83\\x8b\\xe3\\x83\\xa1\\xe3\\x80\\x8e\\xe3\\x83\\xaf\\xe3\\x83\\xb3\\xe3\\x83\\x91\\xe3\\x83\\xb3\\xe3\\x83\\x9e\\xe3\\x83\\xb3\\xe3\\x80\\x8f\\xe3\\x82\\xaa\\xe3\\x83\\xaa\\xe3\\x82\\xb8\\xe3\\x83\\x8a\\xe3\\x83\\xab\\xe3\\x82\\xb5\\xe3\\x82\\xa6\\xe3\\x83\\xb3\\xe3\\x83\\x89\\xe3\\x83\\x88\\xe3\\x83\\xa9\\xe3\\x83\\x83\\xe3\\x82\\xaf\\xe3\\x80\\x8cOne Take Man\\xe3\\x80\\x8d',\n",
       " 'Ten Nararak',\n",
       " 'ai\\xe3\\x81\\xa8cheng',\n",
       " '\\xe5\\x88\\x86\\xe7\\xba\\xa7\\xe5\\x8a\\xa0\\xe5\\xad\\x97\\xe5\\xb9\\x95\\xe8\\xbd\\xbb\\xe6\\x9d\\xbe\\xe7\\xbb\\x83\\xe5\\x90\\xac\\xe5\\x8a\\x9b',\n",
       " '\\xe5\\x91\\xa8\\xe6\\x9d\\xb0\\xe4\\xbc\\xa6',\n",
       " '\\xe9\\x99\\x88\\xe6\\x85\\xa7\\xe5\\xa8\\xb4'}"
      ]
     },
     "execution_count": 82,
     "metadata": {},
     "output_type": "execute_result"
    }
   ],
   "source": [
    "set(li)"
   ]
  },
  {
   "cell_type": "code",
   "execution_count": 83,
   "metadata": {
    "collapsed": true
   },
   "outputs": [],
   "source": [
    "df1 = df1.drop(df1[df1.play_time == '\\tTV\\xe3\\x82\\xa2\\xe3\\x83\\x8b\\xe3\\x83\\xa1\\xe3\\x80\\x8e\\xe3\\x83\\xaf\\xe3\\x83\\xb3\\xe3\\x83\\x91\\xe3\\x83\\xb3\\xe3\\x83\\x9e\\xe3\\x83\\xb3\\xe3\\x80\\x8f\\xe3\\x82\\xaa\\xe3\\x83\\xaa\\xe3\\x82\\xb8\\xe3\\x83\\x8a\\xe3\\x83\\xab\\xe3\\x82\\xb5\\xe3\\x82\\xa6\\xe3\\x83\\xb3\\xe3\\x83\\x89\\xe3\\x83\\x88\\xe3\\x83\\xa9\\xe3\\x83\\x83\\xe3\\x82\\xaf\\xe3\\x80\\x8cOne Take Man\\xe3\\x80\\x8d'].index)\n",
    "df1 = df1.drop(df1[df1.play_time == 'Ten Nararak'].index)\n",
    "df1 = df1.drop(df1[df1.play_time == 'ai\\xe3\\x81\\xa8cheng'].index)\n",
    "df1 = df1.drop(df1[df1.play_time == '\\xe5\\x88\\x86\\xe7\\xba\\xa7\\xe5\\x8a\\xa0\\xe5\\xad\\x97\\xe5\\xb9\\x95\\xe8\\xbd\\xbb\\xe6\\x9d\\xbe\\xe7\\xbb\\x83\\xe5\\x90\\xac\\xe5\\x8a\\x9b'].index)\n",
    "df1 = df1.drop(df1[df1.play_time == '\\xe5\\x91\\xa8\\xe6\\x9d\\xb0\\xe4\\xbc\\xa6'].index)\n",
    "df1 = df1.drop(df1[df1.play_time == '\\xe9\\x99\\x88\\xe6\\x85\\xa7\\xe5\\xa8\\xb4'].index)"
   ]
  },
  {
   "cell_type": "code",
   "execution_count": 84,
   "metadata": {
    "collapsed": true
   },
   "outputs": [],
   "source": [
    "df1['play_time'] = df1['play_time'].astype(float)"
   ]
  },
  {
   "cell_type": "code",
   "execution_count": 88,
   "metadata": {
    "collapsed": true
   },
   "outputs": [],
   "source": [
    "c = df1[['uid', 'play_time']]\n",
    "c = c.groupby(['uid'])['play_time'].sum().reset_index()"
   ]
  },
  {
   "cell_type": "code",
   "execution_count": 90,
   "metadata": {
    "collapsed": false
   },
   "outputs": [],
   "source": [
    "user_matrix = user_matrix.set_index(['uid']).join(c.set_index(['uid'])).reset_index()"
   ]
  },
  {
   "cell_type": "code",
   "execution_count": 92,
   "metadata": {
    "collapsed": false
   },
   "outputs": [
    {
     "data": {
      "text/html": [
       "<div>\n",
       "<style>\n",
       "    .dataframe thead tr:only-child th {\n",
       "        text-align: right;\n",
       "    }\n",
       "\n",
       "    .dataframe thead th {\n",
       "        text-align: left;\n",
       "    }\n",
       "\n",
       "    .dataframe tbody tr th {\n",
       "        vertical-align: top;\n",
       "    }\n",
       "</style>\n",
       "<table border=\"1\" class=\"dataframe\">\n",
       "  <thead>\n",
       "    <tr style=\"text-align: right;\">\n",
       "      <th></th>\n",
       "      <th>uid</th>\n",
       "      <th>for_count</th>\n",
       "      <th>favorite_device</th>\n",
       "      <th>label</th>\n",
       "      <th>play_time</th>\n",
       "    </tr>\n",
       "  </thead>\n",
       "  <tbody>\n",
       "    <tr>\n",
       "      <th>0</th>\n",
       "      <td>0.0</td>\n",
       "      <td>193989</td>\n",
       "      <td>1</td>\n",
       "      <td>0</td>\n",
       "      <td>1.052149e+10</td>\n",
       "    </tr>\n",
       "    <tr>\n",
       "      <th>1</th>\n",
       "      <td>533817.0</td>\n",
       "      <td>82304</td>\n",
       "      <td>1</td>\n",
       "      <td>0</td>\n",
       "      <td>9.345974e+08</td>\n",
       "    </tr>\n",
       "    <tr>\n",
       "      <th>2</th>\n",
       "      <td>751824.0</td>\n",
       "      <td>7129</td>\n",
       "      <td>1</td>\n",
       "      <td>0</td>\n",
       "      <td>2.308999e+09</td>\n",
       "    </tr>\n",
       "    <tr>\n",
       "      <th>3</th>\n",
       "      <td>924065.0</td>\n",
       "      <td>29767</td>\n",
       "      <td>1</td>\n",
       "      <td>0</td>\n",
       "      <td>3.173783e+08</td>\n",
       "    </tr>\n",
       "    <tr>\n",
       "      <th>4</th>\n",
       "      <td>1342999.0</td>\n",
       "      <td>4004</td>\n",
       "      <td>1</td>\n",
       "      <td>0</td>\n",
       "      <td>3.983850e+05</td>\n",
       "    </tr>\n",
       "  </tbody>\n",
       "</table>\n",
       "</div>"
      ],
      "text/plain": [
       "         uid  for_count  favorite_device  label     play_time\n",
       "0        0.0     193989                1      0  1.052149e+10\n",
       "1   533817.0      82304                1      0  9.345974e+08\n",
       "2   751824.0       7129                1      0  2.308999e+09\n",
       "3   924065.0      29767                1      0  3.173783e+08\n",
       "4  1342999.0       4004                1      0  3.983850e+05"
      ]
     },
     "execution_count": 92,
     "metadata": {},
     "output_type": "execute_result"
    }
   ],
   "source": [
    "user_matrix.head()"
   ]
  },
  {
   "cell_type": "code",
   "execution_count": 93,
   "metadata": {
    "collapsed": true
   },
   "outputs": [],
   "source": [
    "bb = user_matrix"
   ]
  },
  {
   "cell_type": "markdown",
   "metadata": {},
   "source": [
    "### ratio"
   ]
  },
  {
   "cell_type": "code",
   "execution_count": 94,
   "metadata": {
    "collapsed": true
   },
   "outputs": [],
   "source": [
    "df1['completion_ratio'] = df1['play_time']/ df1['song_length']"
   ]
  },
  {
   "cell_type": "code",
   "execution_count": 95,
   "metadata": {
    "collapsed": false
   },
   "outputs": [
    {
     "data": {
      "text/html": [
       "<div>\n",
       "<style>\n",
       "    .dataframe thead tr:only-child th {\n",
       "        text-align: right;\n",
       "    }\n",
       "\n",
       "    .dataframe thead th {\n",
       "        text-align: left;\n",
       "    }\n",
       "\n",
       "    .dataframe tbody tr th {\n",
       "        vertical-align: top;\n",
       "    }\n",
       "</style>\n",
       "<table border=\"1\" class=\"dataframe\">\n",
       "  <thead>\n",
       "    <tr style=\"text-align: right;\">\n",
       "      <th></th>\n",
       "      <th>uid</th>\n",
       "      <th>device</th>\n",
       "      <th>song_id</th>\n",
       "      <th>song_type</th>\n",
       "      <th>song_name</th>\n",
       "      <th>singer</th>\n",
       "      <th>play_time</th>\n",
       "      <th>song_length</th>\n",
       "      <th>paid_flag</th>\n",
       "      <th>file_name</th>\n",
       "      <th>date</th>\n",
       "      <th>label</th>\n",
       "      <th>for_count</th>\n",
       "      <th>completion_ratio</th>\n",
       "    </tr>\n",
       "  </thead>\n",
       "  <tbody>\n",
       "    <tr>\n",
       "      <th>0</th>\n",
       "      <td>168551323.0</td>\n",
       "      <td>ar</td>\n",
       "      <td>1.68894e+07</td>\n",
       "      <td>0</td>\n",
       "      <td>一人饮酒醉唯美翻唱</td>\n",
       "      <td>沈雨萱</td>\n",
       "      <td>93.0</td>\n",
       "      <td>93.0</td>\n",
       "      <td>0.0</td>\n",
       "      <td>20170330_3_play.log</td>\n",
       "      <td>20170330.0</td>\n",
       "      <td>1</td>\n",
       "      <td>1</td>\n",
       "      <td>1.000000</td>\n",
       "    </tr>\n",
       "    <tr>\n",
       "      <th>1</th>\n",
       "      <td>168542680.0</td>\n",
       "      <td>ar</td>\n",
       "      <td>0</td>\n",
       "      <td>1</td>\n",
       "      <td>心中的一道彩虹</td>\n",
       "      <td>何祺</td>\n",
       "      <td>284.0</td>\n",
       "      <td>285.0</td>\n",
       "      <td>0.0</td>\n",
       "      <td>20170330_3_play.log</td>\n",
       "      <td>20170330.0</td>\n",
       "      <td>0</td>\n",
       "      <td>1</td>\n",
       "      <td>0.996491</td>\n",
       "    </tr>\n",
       "    <tr>\n",
       "      <th>2</th>\n",
       "      <td>168551542.0</td>\n",
       "      <td>ar</td>\n",
       "      <td>8.76228e+06</td>\n",
       "      <td>0</td>\n",
       "      <td>一笑倾城-(电视剧《微微一笑很倾城》片头曲)</td>\n",
       "      <td>汪苏泷</td>\n",
       "      <td>120.0</td>\n",
       "      <td>232.0</td>\n",
       "      <td>0.0</td>\n",
       "      <td>20170330_3_play.log</td>\n",
       "      <td>20170330.0</td>\n",
       "      <td>1</td>\n",
       "      <td>1</td>\n",
       "      <td>0.517241</td>\n",
       "    </tr>\n",
       "    <tr>\n",
       "      <th>3</th>\n",
       "      <td>168549948.0</td>\n",
       "      <td>ar</td>\n",
       "      <td>2.30825e+07</td>\n",
       "      <td>0</td>\n",
       "      <td>高尚</td>\n",
       "      <td>薛之谦</td>\n",
       "      <td>205.0</td>\n",
       "      <td>318.0</td>\n",
       "      <td>0.0</td>\n",
       "      <td>20170330_3_play.log</td>\n",
       "      <td>20170330.0</td>\n",
       "      <td>1</td>\n",
       "      <td>1</td>\n",
       "      <td>0.644654</td>\n",
       "    </tr>\n",
       "    <tr>\n",
       "      <th>4</th>\n",
       "      <td>168551120.0</td>\n",
       "      <td>ar</td>\n",
       "      <td>2.28585e+07</td>\n",
       "      <td>0</td>\n",
       "      <td>像梦一样自由 (Live)</td>\n",
       "      <td>汪峰</td>\n",
       "      <td>119.0</td>\n",
       "      <td>233.0</td>\n",
       "      <td>0.0</td>\n",
       "      <td>20170330_3_play.log</td>\n",
       "      <td>20170330.0</td>\n",
       "      <td>1</td>\n",
       "      <td>1</td>\n",
       "      <td>0.510730</td>\n",
       "    </tr>\n",
       "  </tbody>\n",
       "</table>\n",
       "</div>"
      ],
      "text/plain": [
       "           uid device      song_id song_type               song_name singer  \\\n",
       "0  168551323.0     ar  1.68894e+07         0               一人饮酒醉唯美翻唱    沈雨萱   \n",
       "1  168542680.0     ar            0         1                 心中的一道彩虹     何祺   \n",
       "2  168551542.0     ar  8.76228e+06         0  一笑倾城-(电视剧《微微一笑很倾城》片头曲)    汪苏泷   \n",
       "3  168549948.0     ar  2.30825e+07         0                      高尚    薛之谦   \n",
       "4  168551120.0     ar  2.28585e+07         0           像梦一样自由 (Live)     汪峰   \n",
       "\n",
       "   play_time  song_length  paid_flag             file_name        date  label  \\\n",
       "0       93.0         93.0        0.0   20170330_3_play.log  20170330.0      1   \n",
       "1      284.0        285.0        0.0   20170330_3_play.log  20170330.0      0   \n",
       "2      120.0        232.0        0.0   20170330_3_play.log  20170330.0      1   \n",
       "3      205.0        318.0        0.0   20170330_3_play.log  20170330.0      1   \n",
       "4      119.0        233.0        0.0   20170330_3_play.log  20170330.0      1   \n",
       "\n",
       "   for_count  completion_ratio  \n",
       "0          1          1.000000  \n",
       "1          1          0.996491  \n",
       "2          1          0.517241  \n",
       "3          1          0.644654  \n",
       "4          1          0.510730  "
      ]
     },
     "execution_count": 95,
     "metadata": {},
     "output_type": "execute_result"
    }
   ],
   "source": [
    "df1.head()"
   ]
  },
  {
   "cell_type": "code",
   "execution_count": 98,
   "metadata": {
    "collapsed": false
   },
   "outputs": [],
   "source": [
    "df1 = df1.dropna(subset=['completion_ratio'])"
   ]
  },
  {
   "cell_type": "code",
   "execution_count": 116,
   "metadata": {
    "collapsed": true
   },
   "outputs": [],
   "source": [
    "c = df1[['uid', 'completion_ratio']]\n",
    "# c = c.groupby(['uid']).mean().reset_index()"
   ]
  },
  {
   "cell_type": "code",
   "execution_count": 117,
   "metadata": {
    "collapsed": false
   },
   "outputs": [],
   "source": [
    "c = c.replace([np.inf, -np.inf], np.nan)\n",
    "# c[c['completion_ratio'] > 4]"
   ]
  },
  {
   "cell_type": "code",
   "execution_count": 118,
   "metadata": {
    "collapsed": true
   },
   "outputs": [],
   "source": [
    "c = c.dropna(subset=['completion_ratio'])"
   ]
  },
  {
   "cell_type": "code",
   "execution_count": 119,
   "metadata": {
    "collapsed": true
   },
   "outputs": [],
   "source": [
    "c = c.groupby(['uid']).mean().reset_index()"
   ]
  },
  {
   "cell_type": "code",
   "execution_count": 121,
   "metadata": {
    "collapsed": false
   },
   "outputs": [],
   "source": [
    "# c[c['completion_ratio'] < 0]"
   ]
  },
  {
   "cell_type": "code",
   "execution_count": 123,
   "metadata": {
    "collapsed": false
   },
   "outputs": [],
   "source": [
    "user_matrix = user_matrix.set_index(['uid']).join(c.set_index(['uid'])).reset_index()"
   ]
  },
  {
   "cell_type": "code",
   "execution_count": 124,
   "metadata": {
    "collapsed": false
   },
   "outputs": [
    {
     "data": {
      "text/html": [
       "<div>\n",
       "<style>\n",
       "    .dataframe thead tr:only-child th {\n",
       "        text-align: right;\n",
       "    }\n",
       "\n",
       "    .dataframe thead th {\n",
       "        text-align: left;\n",
       "    }\n",
       "\n",
       "    .dataframe tbody tr th {\n",
       "        vertical-align: top;\n",
       "    }\n",
       "</style>\n",
       "<table border=\"1\" class=\"dataframe\">\n",
       "  <thead>\n",
       "    <tr style=\"text-align: right;\">\n",
       "      <th></th>\n",
       "      <th>uid</th>\n",
       "      <th>for_count</th>\n",
       "      <th>favorite_device</th>\n",
       "      <th>label</th>\n",
       "      <th>play_time</th>\n",
       "      <th>completion_ratio</th>\n",
       "    </tr>\n",
       "  </thead>\n",
       "  <tbody>\n",
       "    <tr>\n",
       "      <th>0</th>\n",
       "      <td>0.0</td>\n",
       "      <td>193989</td>\n",
       "      <td>1</td>\n",
       "      <td>0</td>\n",
       "      <td>1.052149e+10</td>\n",
       "      <td>129.218331</td>\n",
       "    </tr>\n",
       "    <tr>\n",
       "      <th>1</th>\n",
       "      <td>533817.0</td>\n",
       "      <td>82304</td>\n",
       "      <td>1</td>\n",
       "      <td>0</td>\n",
       "      <td>9.345974e+08</td>\n",
       "      <td>36.393828</td>\n",
       "    </tr>\n",
       "    <tr>\n",
       "      <th>2</th>\n",
       "      <td>751824.0</td>\n",
       "      <td>7129</td>\n",
       "      <td>1</td>\n",
       "      <td>0</td>\n",
       "      <td>2.308999e+09</td>\n",
       "      <td>-321123.118894</td>\n",
       "    </tr>\n",
       "    <tr>\n",
       "      <th>3</th>\n",
       "      <td>924065.0</td>\n",
       "      <td>29767</td>\n",
       "      <td>1</td>\n",
       "      <td>0</td>\n",
       "      <td>3.173783e+08</td>\n",
       "      <td>34.594272</td>\n",
       "    </tr>\n",
       "    <tr>\n",
       "      <th>4</th>\n",
       "      <td>1342999.0</td>\n",
       "      <td>4004</td>\n",
       "      <td>1</td>\n",
       "      <td>0</td>\n",
       "      <td>3.983850e+05</td>\n",
       "      <td>0.533570</td>\n",
       "    </tr>\n",
       "  </tbody>\n",
       "</table>\n",
       "</div>"
      ],
      "text/plain": [
       "         uid  for_count  favorite_device  label     play_time  \\\n",
       "0        0.0     193989                1      0  1.052149e+10   \n",
       "1   533817.0      82304                1      0  9.345974e+08   \n",
       "2   751824.0       7129                1      0  2.308999e+09   \n",
       "3   924065.0      29767                1      0  3.173783e+08   \n",
       "4  1342999.0       4004                1      0  3.983850e+05   \n",
       "\n",
       "   completion_ratio  \n",
       "0        129.218331  \n",
       "1         36.393828  \n",
       "2    -321123.118894  \n",
       "3         34.594272  \n",
       "4          0.533570  "
      ]
     },
     "execution_count": 124,
     "metadata": {},
     "output_type": "execute_result"
    }
   ],
   "source": [
    "user_matrix.head()"
   ]
  },
  {
   "cell_type": "markdown",
   "metadata": {},
   "source": [
    "### Window"
   ]
  },
  {
   "cell_type": "code",
   "execution_count": 125,
   "metadata": {
    "collapsed": true
   },
   "outputs": [],
   "source": [
    "window = df1[['uid','date','song_id']].groupby(['uid','date'],as_index=False).count().rename(columns={'song_id': 'count'})"
   ]
  },
  {
   "cell_type": "code",
   "execution_count": 126,
   "metadata": {
    "collapsed": true
   },
   "outputs": [],
   "source": [
    "window1 =  window.query('20170421.0 <= date <= 20170421.0')\n",
    "window2 =  window.query('date in (20170421.0,20170420.0,20170419.0)')\n",
    "window3 =  window.query('20170415.0 <= date <= 20170421.0')\n",
    "window4 =  window.query('20170408.0 <= date <= 20170421.0')\n",
    "window5 =  window.query('20170330.0 <= date <= 20170421.0')"
   ]
  },
  {
   "cell_type": "code",
   "execution_count": 127,
   "metadata": {
    "collapsed": true
   },
   "outputs": [],
   "source": [
    "window1 = window1.groupby([\"uid\"], as_index=False)['count'].sum()\n",
    "window2 = window2.groupby([\"uid\"], as_index=False)['count'].sum()\n",
    "window3 = window3.groupby([\"uid\"], as_index=False)['count'].sum()\n",
    "window4 = window4.groupby([\"uid\"], as_index=False)['count'].sum()\n",
    "window5 = window5.groupby([\"uid\"], as_index=False)['count'].sum()"
   ]
  },
  {
   "cell_type": "code",
   "execution_count": 128,
   "metadata": {
    "collapsed": true
   },
   "outputs": [],
   "source": [
    "b = user_matrix"
   ]
  },
  {
   "cell_type": "code",
   "execution_count": 139,
   "metadata": {
    "collapsed": true
   },
   "outputs": [],
   "source": [
    "user_matrix = b"
   ]
  },
  {
   "cell_type": "code",
   "execution_count": 140,
   "metadata": {
    "collapsed": true
   },
   "outputs": [],
   "source": [
    "user_matrix = user_matrix.set_index(['uid']).join(window1.set_index(['uid'])).reset_index()"
   ]
  },
  {
   "cell_type": "code",
   "execution_count": 141,
   "metadata": {
    "collapsed": false
   },
   "outputs": [],
   "source": [
    "user_matrix = user_matrix.rename(columns={'count': 'win1'})"
   ]
  },
  {
   "cell_type": "code",
   "execution_count": 142,
   "metadata": {
    "collapsed": false
   },
   "outputs": [],
   "source": [
    "user_matrix = user_matrix.set_index(['uid']).join(window2.set_index(['uid'])).reset_index()\n",
    "user_matrix = user_matrix.rename(columns={'count': 'win2'})"
   ]
  },
  {
   "cell_type": "code",
   "execution_count": 143,
   "metadata": {
    "collapsed": false
   },
   "outputs": [],
   "source": [
    "user_matrix = user_matrix.set_index(['uid']).join(window3.set_index(['uid'])).reset_index()\n",
    "user_matrix = user_matrix.rename(columns={'count': 'win3'})"
   ]
  },
  {
   "cell_type": "code",
   "execution_count": 144,
   "metadata": {
    "collapsed": true
   },
   "outputs": [],
   "source": [
    "user_matrix = user_matrix.set_index(['uid']).join(window4.set_index(['uid'])).reset_index()\n",
    "user_matrix = user_matrix.rename(columns={'count': 'win4'})"
   ]
  },
  {
   "cell_type": "code",
   "execution_count": 145,
   "metadata": {
    "collapsed": true
   },
   "outputs": [],
   "source": [
    "user_matrix = user_matrix.set_index(['uid']).join(window5.set_index(['uid'])).reset_index()\n",
    "user_matrix = user_matrix.rename(columns={'count': 'win5'})"
   ]
  },
  {
   "cell_type": "code",
   "execution_count": 146,
   "metadata": {
    "collapsed": false
   },
   "outputs": [
    {
     "data": {
      "text/html": [
       "<div>\n",
       "<style>\n",
       "    .dataframe thead tr:only-child th {\n",
       "        text-align: right;\n",
       "    }\n",
       "\n",
       "    .dataframe thead th {\n",
       "        text-align: left;\n",
       "    }\n",
       "\n",
       "    .dataframe tbody tr th {\n",
       "        vertical-align: top;\n",
       "    }\n",
       "</style>\n",
       "<table border=\"1\" class=\"dataframe\">\n",
       "  <thead>\n",
       "    <tr style=\"text-align: right;\">\n",
       "      <th></th>\n",
       "      <th>uid</th>\n",
       "      <th>for_count</th>\n",
       "      <th>favorite_device</th>\n",
       "      <th>label</th>\n",
       "      <th>play_time</th>\n",
       "      <th>completion_ratio</th>\n",
       "      <th>win1</th>\n",
       "      <th>win2</th>\n",
       "      <th>win3</th>\n",
       "      <th>win4</th>\n",
       "      <th>win5</th>\n",
       "    </tr>\n",
       "  </thead>\n",
       "  <tbody>\n",
       "    <tr>\n",
       "      <th>0</th>\n",
       "      <td>0.0</td>\n",
       "      <td>193989</td>\n",
       "      <td>1</td>\n",
       "      <td>0</td>\n",
       "      <td>1.052149e+10</td>\n",
       "      <td>129.218331</td>\n",
       "      <td>16142.0</td>\n",
       "      <td>29143.0</td>\n",
       "      <td>74499.0</td>\n",
       "      <td>141200.0</td>\n",
       "      <td>182377.0</td>\n",
       "    </tr>\n",
       "    <tr>\n",
       "      <th>1</th>\n",
       "      <td>533817.0</td>\n",
       "      <td>82304</td>\n",
       "      <td>1</td>\n",
       "      <td>0</td>\n",
       "      <td>9.345974e+08</td>\n",
       "      <td>36.393828</td>\n",
       "      <td>2940.0</td>\n",
       "      <td>10078.0</td>\n",
       "      <td>24079.0</td>\n",
       "      <td>46313.0</td>\n",
       "      <td>75329.0</td>\n",
       "    </tr>\n",
       "    <tr>\n",
       "      <th>2</th>\n",
       "      <td>751824.0</td>\n",
       "      <td>7129</td>\n",
       "      <td>1</td>\n",
       "      <td>0</td>\n",
       "      <td>2.308999e+09</td>\n",
       "      <td>-321123.118894</td>\n",
       "      <td>NaN</td>\n",
       "      <td>NaN</td>\n",
       "      <td>1644.0</td>\n",
       "      <td>6880.0</td>\n",
       "      <td>6880.0</td>\n",
       "    </tr>\n",
       "    <tr>\n",
       "      <th>3</th>\n",
       "      <td>924065.0</td>\n",
       "      <td>29767</td>\n",
       "      <td>1</td>\n",
       "      <td>0</td>\n",
       "      <td>3.173783e+08</td>\n",
       "      <td>34.594272</td>\n",
       "      <td>516.0</td>\n",
       "      <td>764.0</td>\n",
       "      <td>2186.0</td>\n",
       "      <td>24489.0</td>\n",
       "      <td>29103.0</td>\n",
       "    </tr>\n",
       "    <tr>\n",
       "      <th>4</th>\n",
       "      <td>1342999.0</td>\n",
       "      <td>4004</td>\n",
       "      <td>1</td>\n",
       "      <td>0</td>\n",
       "      <td>3.983850e+05</td>\n",
       "      <td>0.533570</td>\n",
       "      <td>552.0</td>\n",
       "      <td>745.0</td>\n",
       "      <td>1316.0</td>\n",
       "      <td>2770.0</td>\n",
       "      <td>4000.0</td>\n",
       "    </tr>\n",
       "  </tbody>\n",
       "</table>\n",
       "</div>"
      ],
      "text/plain": [
       "         uid  for_count  favorite_device  label     play_time  \\\n",
       "0        0.0     193989                1      0  1.052149e+10   \n",
       "1   533817.0      82304                1      0  9.345974e+08   \n",
       "2   751824.0       7129                1      0  2.308999e+09   \n",
       "3   924065.0      29767                1      0  3.173783e+08   \n",
       "4  1342999.0       4004                1      0  3.983850e+05   \n",
       "\n",
       "   completion_ratio     win1     win2     win3      win4      win5  \n",
       "0        129.218331  16142.0  29143.0  74499.0  141200.0  182377.0  \n",
       "1         36.393828   2940.0  10078.0  24079.0   46313.0   75329.0  \n",
       "2    -321123.118894      NaN      NaN   1644.0    6880.0    6880.0  \n",
       "3         34.594272    516.0    764.0   2186.0   24489.0   29103.0  \n",
       "4          0.533570    552.0    745.0   1316.0    2770.0    4000.0  "
      ]
     },
     "execution_count": 146,
     "metadata": {},
     "output_type": "execute_result"
    }
   ],
   "source": [
    "user_matrix.head()"
   ]
  },
  {
   "cell_type": "markdown",
   "metadata": {},
   "source": [
    "### paid type"
   ]
  },
  {
   "cell_type": "code",
   "execution_count": 147,
   "metadata": {
    "collapsed": true
   },
   "outputs": [],
   "source": [
    "paid = df1[['uid','paid_flag','song_id']].groupby(['uid','paid_flag'],as_index=False).count().rename(columns={'song_id': 'count'})"
   ]
  },
  {
   "cell_type": "code",
   "execution_count": 149,
   "metadata": {
    "collapsed": false
   },
   "outputs": [
    {
     "data": {
      "text/html": [
       "<div>\n",
       "<style>\n",
       "    .dataframe thead tr:only-child th {\n",
       "        text-align: right;\n",
       "    }\n",
       "\n",
       "    .dataframe thead th {\n",
       "        text-align: left;\n",
       "    }\n",
       "\n",
       "    .dataframe tbody tr th {\n",
       "        vertical-align: top;\n",
       "    }\n",
       "</style>\n",
       "<table border=\"1\" class=\"dataframe\">\n",
       "  <thead>\n",
       "    <tr style=\"text-align: right;\">\n",
       "      <th></th>\n",
       "      <th>uid</th>\n",
       "      <th>paid_flag</th>\n",
       "      <th>count</th>\n",
       "    </tr>\n",
       "  </thead>\n",
       "  <tbody>\n",
       "  </tbody>\n",
       "</table>\n",
       "</div>"
      ],
      "text/plain": [
       "Empty DataFrame\n",
       "Columns: [uid, paid_flag, count]\n",
       "Index: []"
      ]
     },
     "execution_count": 149,
     "metadata": {},
     "output_type": "execute_result"
    }
   ],
   "source": [
    "paid[paid['paid_flag'] == 1]"
   ]
  },
  {
   "cell_type": "markdown",
   "metadata": {},
   "source": [
    "### language"
   ]
  },
  {
   "cell_type": "code",
   "execution_count": 150,
   "metadata": {
    "collapsed": true
   },
   "outputs": [],
   "source": [
    "def chinese(a):\n",
    "    for ch in a:\n",
    "        if u'\\u4e00' <= ch <= u'\\u9fff':\n",
    "            return 1\n",
    "    return 0"
   ]
  },
  {
   "cell_type": "code",
   "execution_count": 154,
   "metadata": {
    "collapsed": true
   },
   "outputs": [],
   "source": [
    "b = user_matrix"
   ]
  },
  {
   "cell_type": "code",
   "execution_count": 151,
   "metadata": {
    "collapsed": true
   },
   "outputs": [],
   "source": [
    "song_name = df1['song_name']"
   ]
  },
  {
   "cell_type": "code",
   "execution_count": 152,
   "metadata": {
    "collapsed": true
   },
   "outputs": [],
   "source": [
    "song_name = list(song_name)"
   ]
  },
  {
   "cell_type": "code",
   "execution_count": 153,
   "metadata": {
    "collapsed": true
   },
   "outputs": [],
   "source": [
    "song_name_list = []\n",
    "cc = 0\n",
    "for i in song_name:\n",
    "    try:\n",
    "        song_name_list.append(chinese(i))\n",
    "    except:\n",
    "        song_name_list.append(1)"
   ]
  },
  {
   "cell_type": "code",
   "execution_count": 155,
   "metadata": {
    "collapsed": true
   },
   "outputs": [],
   "source": [
    "user_matrix['song language'] = pd.Series(song_name_list)"
   ]
  },
  {
   "cell_type": "code",
   "execution_count": 156,
   "metadata": {
    "collapsed": false
   },
   "outputs": [
    {
     "data": {
      "text/html": [
       "<div>\n",
       "<style>\n",
       "    .dataframe thead tr:only-child th {\n",
       "        text-align: right;\n",
       "    }\n",
       "\n",
       "    .dataframe thead th {\n",
       "        text-align: left;\n",
       "    }\n",
       "\n",
       "    .dataframe tbody tr th {\n",
       "        vertical-align: top;\n",
       "    }\n",
       "</style>\n",
       "<table border=\"1\" class=\"dataframe\">\n",
       "  <thead>\n",
       "    <tr style=\"text-align: right;\">\n",
       "      <th></th>\n",
       "      <th>uid</th>\n",
       "      <th>for_count</th>\n",
       "      <th>favorite_device</th>\n",
       "      <th>label</th>\n",
       "      <th>play_time</th>\n",
       "      <th>completion_ratio</th>\n",
       "      <th>win1</th>\n",
       "      <th>win2</th>\n",
       "      <th>win3</th>\n",
       "      <th>win4</th>\n",
       "      <th>win5</th>\n",
       "      <th>song language</th>\n",
       "    </tr>\n",
       "  </thead>\n",
       "  <tbody>\n",
       "    <tr>\n",
       "      <th>0</th>\n",
       "      <td>0.0</td>\n",
       "      <td>193989</td>\n",
       "      <td>1</td>\n",
       "      <td>0</td>\n",
       "      <td>1.052149e+10</td>\n",
       "      <td>129.218331</td>\n",
       "      <td>16142.0</td>\n",
       "      <td>29143.0</td>\n",
       "      <td>74499.0</td>\n",
       "      <td>141200.0</td>\n",
       "      <td>182377.0</td>\n",
       "      <td>1</td>\n",
       "    </tr>\n",
       "    <tr>\n",
       "      <th>1</th>\n",
       "      <td>533817.0</td>\n",
       "      <td>82304</td>\n",
       "      <td>1</td>\n",
       "      <td>0</td>\n",
       "      <td>9.345974e+08</td>\n",
       "      <td>36.393828</td>\n",
       "      <td>2940.0</td>\n",
       "      <td>10078.0</td>\n",
       "      <td>24079.0</td>\n",
       "      <td>46313.0</td>\n",
       "      <td>75329.0</td>\n",
       "      <td>1</td>\n",
       "    </tr>\n",
       "    <tr>\n",
       "      <th>2</th>\n",
       "      <td>751824.0</td>\n",
       "      <td>7129</td>\n",
       "      <td>1</td>\n",
       "      <td>0</td>\n",
       "      <td>2.308999e+09</td>\n",
       "      <td>-321123.118894</td>\n",
       "      <td>NaN</td>\n",
       "      <td>NaN</td>\n",
       "      <td>1644.0</td>\n",
       "      <td>6880.0</td>\n",
       "      <td>6880.0</td>\n",
       "      <td>1</td>\n",
       "    </tr>\n",
       "    <tr>\n",
       "      <th>3</th>\n",
       "      <td>924065.0</td>\n",
       "      <td>29767</td>\n",
       "      <td>1</td>\n",
       "      <td>0</td>\n",
       "      <td>3.173783e+08</td>\n",
       "      <td>34.594272</td>\n",
       "      <td>516.0</td>\n",
       "      <td>764.0</td>\n",
       "      <td>2186.0</td>\n",
       "      <td>24489.0</td>\n",
       "      <td>29103.0</td>\n",
       "      <td>1</td>\n",
       "    </tr>\n",
       "    <tr>\n",
       "      <th>4</th>\n",
       "      <td>1342999.0</td>\n",
       "      <td>4004</td>\n",
       "      <td>1</td>\n",
       "      <td>0</td>\n",
       "      <td>3.983850e+05</td>\n",
       "      <td>0.533570</td>\n",
       "      <td>552.0</td>\n",
       "      <td>745.0</td>\n",
       "      <td>1316.0</td>\n",
       "      <td>2770.0</td>\n",
       "      <td>4000.0</td>\n",
       "      <td>1</td>\n",
       "    </tr>\n",
       "  </tbody>\n",
       "</table>\n",
       "</div>"
      ],
      "text/plain": [
       "         uid  for_count  favorite_device  label     play_time  \\\n",
       "0        0.0     193989                1      0  1.052149e+10   \n",
       "1   533817.0      82304                1      0  9.345974e+08   \n",
       "2   751824.0       7129                1      0  2.308999e+09   \n",
       "3   924065.0      29767                1      0  3.173783e+08   \n",
       "4  1342999.0       4004                1      0  3.983850e+05   \n",
       "\n",
       "   completion_ratio     win1     win2     win3      win4      win5  \\\n",
       "0        129.218331  16142.0  29143.0  74499.0  141200.0  182377.0   \n",
       "1         36.393828   2940.0  10078.0  24079.0   46313.0   75329.0   \n",
       "2    -321123.118894      NaN      NaN   1644.0    6880.0    6880.0   \n",
       "3         34.594272    516.0    764.0   2186.0   24489.0   29103.0   \n",
       "4          0.533570    552.0    745.0   1316.0    2770.0    4000.0   \n",
       "\n",
       "   song language  \n",
       "0              1  \n",
       "1              1  \n",
       "2              1  \n",
       "3              1  \n",
       "4              1  "
      ]
     },
     "execution_count": 156,
     "metadata": {},
     "output_type": "execute_result"
    }
   ],
   "source": [
    "user_matrix.head()"
   ]
  },
  {
   "cell_type": "markdown",
   "metadata": {},
   "source": [
    "### Song type"
   ]
  },
  {
   "cell_type": "code",
   "execution_count": 161,
   "metadata": {
    "collapsed": true
   },
   "outputs": [],
   "source": [
    "b = user_matrix"
   ]
  },
  {
   "cell_type": "code",
   "execution_count": 171,
   "metadata": {
    "collapsed": true
   },
   "outputs": [],
   "source": [
    "genre = df1[['uid', 'song_type']].groupby(['uid', 'song_type']).size()"
   ]
  },
  {
   "cell_type": "code",
   "execution_count": 172,
   "metadata": {
    "collapsed": true
   },
   "outputs": [],
   "source": [
    "genre = genre.reset_index()\n",
    "genre.colnames = ['uid', 'song_type', 'count']"
   ]
  },
  {
   "cell_type": "code",
   "execution_count": 173,
   "metadata": {
    "collapsed": true
   },
   "outputs": [],
   "source": [
    "genre.columns = ['uid', 'song_type', 'count'] "
   ]
  },
  {
   "cell_type": "code",
   "execution_count": 174,
   "metadata": {
    "collapsed": false
   },
   "outputs": [
    {
     "name": "stderr",
     "output_type": "stream",
     "text": [
      "D:\\Anaconda\\lib\\site-packages\\ipykernel\\__main__.py:1: DeprecationWarning: \n",
      ".ix is deprecated. Please use\n",
      ".loc for label based indexing or\n",
      ".iloc for positional indexing\n",
      "\n",
      "See the documentation here:\n",
      "http://pandas.pydata.org/pandas-docs/stable/indexing.html#deprecate_ix\n",
      "  if __name__ == '__main__':\n"
     ]
    }
   ],
   "source": [
    "favorite_genre = genre.ix[genre.groupby(['uid'], sort=False)['count'].idxmax()]"
   ]
  },
  {
   "cell_type": "code",
   "execution_count": 175,
   "metadata": {
    "collapsed": true
   },
   "outputs": [],
   "source": [
    "favorite_genre = favorite_genre[['uid', 'song_type']]"
   ]
  },
  {
   "cell_type": "code",
   "execution_count": 176,
   "metadata": {
    "collapsed": true
   },
   "outputs": [],
   "source": [
    "user_matrix = user_matrix.set_index(['uid']).join(favorite_genre.set_index(['uid'])).reset_index()"
   ]
  },
  {
   "cell_type": "code",
   "execution_count": 177,
   "metadata": {
    "collapsed": false
   },
   "outputs": [
    {
     "data": {
      "text/html": [
       "<div>\n",
       "<style>\n",
       "    .dataframe thead tr:only-child th {\n",
       "        text-align: right;\n",
       "    }\n",
       "\n",
       "    .dataframe thead th {\n",
       "        text-align: left;\n",
       "    }\n",
       "\n",
       "    .dataframe tbody tr th {\n",
       "        vertical-align: top;\n",
       "    }\n",
       "</style>\n",
       "<table border=\"1\" class=\"dataframe\">\n",
       "  <thead>\n",
       "    <tr style=\"text-align: right;\">\n",
       "      <th></th>\n",
       "      <th>uid</th>\n",
       "      <th>for_count</th>\n",
       "      <th>favorite_device</th>\n",
       "      <th>label</th>\n",
       "      <th>play_time</th>\n",
       "      <th>completion_ratio</th>\n",
       "      <th>win1</th>\n",
       "      <th>win2</th>\n",
       "      <th>win3</th>\n",
       "      <th>win4</th>\n",
       "      <th>win5</th>\n",
       "      <th>song language</th>\n",
       "      <th>song_type</th>\n",
       "    </tr>\n",
       "  </thead>\n",
       "  <tbody>\n",
       "    <tr>\n",
       "      <th>0</th>\n",
       "      <td>0.0</td>\n",
       "      <td>193989</td>\n",
       "      <td>1</td>\n",
       "      <td>0</td>\n",
       "      <td>1.052149e+10</td>\n",
       "      <td>129.218331</td>\n",
       "      <td>16142.0</td>\n",
       "      <td>29143.0</td>\n",
       "      <td>74499.0</td>\n",
       "      <td>141200.0</td>\n",
       "      <td>182377.0</td>\n",
       "      <td>1</td>\n",
       "      <td>0</td>\n",
       "    </tr>\n",
       "    <tr>\n",
       "      <th>1</th>\n",
       "      <td>533817.0</td>\n",
       "      <td>82304</td>\n",
       "      <td>1</td>\n",
       "      <td>0</td>\n",
       "      <td>9.345974e+08</td>\n",
       "      <td>36.393828</td>\n",
       "      <td>2940.0</td>\n",
       "      <td>10078.0</td>\n",
       "      <td>24079.0</td>\n",
       "      <td>46313.0</td>\n",
       "      <td>75329.0</td>\n",
       "      <td>1</td>\n",
       "      <td>0</td>\n",
       "    </tr>\n",
       "    <tr>\n",
       "      <th>2</th>\n",
       "      <td>751824.0</td>\n",
       "      <td>7129</td>\n",
       "      <td>1</td>\n",
       "      <td>0</td>\n",
       "      <td>2.308999e+09</td>\n",
       "      <td>-321123.118894</td>\n",
       "      <td>NaN</td>\n",
       "      <td>NaN</td>\n",
       "      <td>1644.0</td>\n",
       "      <td>6880.0</td>\n",
       "      <td>6880.0</td>\n",
       "      <td>1</td>\n",
       "      <td>1</td>\n",
       "    </tr>\n",
       "    <tr>\n",
       "      <th>3</th>\n",
       "      <td>924065.0</td>\n",
       "      <td>29767</td>\n",
       "      <td>1</td>\n",
       "      <td>0</td>\n",
       "      <td>3.173783e+08</td>\n",
       "      <td>34.594272</td>\n",
       "      <td>516.0</td>\n",
       "      <td>764.0</td>\n",
       "      <td>2186.0</td>\n",
       "      <td>24489.0</td>\n",
       "      <td>29103.0</td>\n",
       "      <td>1</td>\n",
       "      <td>0</td>\n",
       "    </tr>\n",
       "    <tr>\n",
       "      <th>4</th>\n",
       "      <td>1342999.0</td>\n",
       "      <td>4004</td>\n",
       "      <td>1</td>\n",
       "      <td>0</td>\n",
       "      <td>3.983850e+05</td>\n",
       "      <td>0.533570</td>\n",
       "      <td>552.0</td>\n",
       "      <td>745.0</td>\n",
       "      <td>1316.0</td>\n",
       "      <td>2770.0</td>\n",
       "      <td>4000.0</td>\n",
       "      <td>1</td>\n",
       "      <td>0</td>\n",
       "    </tr>\n",
       "  </tbody>\n",
       "</table>\n",
       "</div>"
      ],
      "text/plain": [
       "         uid  for_count  favorite_device  label     play_time  \\\n",
       "0        0.0     193989                1      0  1.052149e+10   \n",
       "1   533817.0      82304                1      0  9.345974e+08   \n",
       "2   751824.0       7129                1      0  2.308999e+09   \n",
       "3   924065.0      29767                1      0  3.173783e+08   \n",
       "4  1342999.0       4004                1      0  3.983850e+05   \n",
       "\n",
       "   completion_ratio     win1     win2     win3      win4      win5  \\\n",
       "0        129.218331  16142.0  29143.0  74499.0  141200.0  182377.0   \n",
       "1         36.393828   2940.0  10078.0  24079.0   46313.0   75329.0   \n",
       "2    -321123.118894      NaN      NaN   1644.0    6880.0    6880.0   \n",
       "3         34.594272    516.0    764.0   2186.0   24489.0   29103.0   \n",
       "4          0.533570    552.0    745.0   1316.0    2770.0    4000.0   \n",
       "\n",
       "   song language song_type  \n",
       "0              1         0  \n",
       "1              1         0  \n",
       "2              1         1  \n",
       "3              1         0  \n",
       "4              1         0  "
      ]
     },
     "execution_count": 177,
     "metadata": {},
     "output_type": "execute_result"
    }
   ],
   "source": [
    "user_matrix.head()"
   ]
  },
  {
   "cell_type": "code",
   "execution_count": 178,
   "metadata": {
    "collapsed": true
   },
   "outputs": [],
   "source": [
    "user_matrix.to_csv('feature.csv',encoding=\"utf-8\",index = False)"
   ]
  }
 ],
 "metadata": {
  "anaconda-cloud": {},
  "kernelspec": {
   "display_name": "Python [conda root]",
   "language": "python",
   "name": "conda-root-py"
  },
  "language_info": {
   "codemirror_mode": {
    "name": "ipython",
    "version": 2
   },
   "file_extension": ".py",
   "mimetype": "text/x-python",
   "name": "python",
   "nbconvert_exporter": "python",
   "pygments_lexer": "ipython2",
   "version": "2.7.13"
  }
 },
 "nbformat": 4,
 "nbformat_minor": 2
}
