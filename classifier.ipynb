{
 "cells": [
  {
   "cell_type": "code",
   "execution_count": 56,
   "metadata": {
    "collapsed": true
   },
   "outputs": [],
   "source": [
    "import pandas as pd\n",
    "import numpy as np\n",
    "from sklearn.ensemble import RandomForestClassifier"
   ]
  },
  {
   "cell_type": "code",
   "execution_count": 57,
   "metadata": {
    "collapsed": true
   },
   "outputs": [],
   "source": [
    "from sklearn.metrics import confusion_matrix, classification_report, roc_curve, roc_auc_score"
   ]
  },
  {
   "cell_type": "code",
   "execution_count": 58,
   "metadata": {
    "collapsed": false
   },
   "outputs": [],
   "source": [
    "from sklearn.grid_search import GridSearchCV"
   ]
  },
  {
   "cell_type": "code",
   "execution_count": 59,
   "metadata": {
    "collapsed": true
   },
   "outputs": [],
   "source": [
    "df1 = pd.read_csv('feature.csv')"
   ]
  },
  {
   "cell_type": "code",
   "execution_count": 60,
   "metadata": {
    "collapsed": false
   },
   "outputs": [
    {
     "data": {
      "text/html": [
       "<div>\n",
       "<style>\n",
       "    .dataframe thead tr:only-child th {\n",
       "        text-align: right;\n",
       "    }\n",
       "\n",
       "    .dataframe thead th {\n",
       "        text-align: left;\n",
       "    }\n",
       "\n",
       "    .dataframe tbody tr th {\n",
       "        vertical-align: top;\n",
       "    }\n",
       "</style>\n",
       "<table border=\"1\" class=\"dataframe\">\n",
       "  <thead>\n",
       "    <tr style=\"text-align: right;\">\n",
       "      <th></th>\n",
       "      <th>uid</th>\n",
       "      <th>for_count</th>\n",
       "      <th>favorite_device</th>\n",
       "      <th>label</th>\n",
       "      <th>play_time</th>\n",
       "      <th>completion_ratio</th>\n",
       "      <th>win1</th>\n",
       "      <th>win2</th>\n",
       "      <th>win3</th>\n",
       "      <th>win4</th>\n",
       "      <th>win5</th>\n",
       "      <th>song language</th>\n",
       "      <th>song_type</th>\n",
       "    </tr>\n",
       "  </thead>\n",
       "  <tbody>\n",
       "    <tr>\n",
       "      <th>0</th>\n",
       "      <td>0.0</td>\n",
       "      <td>193989</td>\n",
       "      <td>1</td>\n",
       "      <td>0</td>\n",
       "      <td>1.052149e+10</td>\n",
       "      <td>129.218331</td>\n",
       "      <td>16142.0</td>\n",
       "      <td>29143.0</td>\n",
       "      <td>74499.0</td>\n",
       "      <td>141200.0</td>\n",
       "      <td>182377.0</td>\n",
       "      <td>1</td>\n",
       "      <td>0.0</td>\n",
       "    </tr>\n",
       "    <tr>\n",
       "      <th>1</th>\n",
       "      <td>533817.0</td>\n",
       "      <td>82304</td>\n",
       "      <td>1</td>\n",
       "      <td>0</td>\n",
       "      <td>9.345974e+08</td>\n",
       "      <td>36.393828</td>\n",
       "      <td>2940.0</td>\n",
       "      <td>10078.0</td>\n",
       "      <td>24079.0</td>\n",
       "      <td>46313.0</td>\n",
       "      <td>75329.0</td>\n",
       "      <td>1</td>\n",
       "      <td>0.0</td>\n",
       "    </tr>\n",
       "    <tr>\n",
       "      <th>2</th>\n",
       "      <td>751824.0</td>\n",
       "      <td>7129</td>\n",
       "      <td>1</td>\n",
       "      <td>0</td>\n",
       "      <td>2.308999e+09</td>\n",
       "      <td>-321123.118894</td>\n",
       "      <td>NaN</td>\n",
       "      <td>NaN</td>\n",
       "      <td>1644.0</td>\n",
       "      <td>6880.0</td>\n",
       "      <td>6880.0</td>\n",
       "      <td>1</td>\n",
       "      <td>1.0</td>\n",
       "    </tr>\n",
       "    <tr>\n",
       "      <th>3</th>\n",
       "      <td>924065.0</td>\n",
       "      <td>29767</td>\n",
       "      <td>1</td>\n",
       "      <td>0</td>\n",
       "      <td>3.173783e+08</td>\n",
       "      <td>34.594272</td>\n",
       "      <td>516.0</td>\n",
       "      <td>764.0</td>\n",
       "      <td>2186.0</td>\n",
       "      <td>24489.0</td>\n",
       "      <td>29103.0</td>\n",
       "      <td>1</td>\n",
       "      <td>0.0</td>\n",
       "    </tr>\n",
       "    <tr>\n",
       "      <th>4</th>\n",
       "      <td>1342999.0</td>\n",
       "      <td>4004</td>\n",
       "      <td>1</td>\n",
       "      <td>0</td>\n",
       "      <td>3.983850e+05</td>\n",
       "      <td>0.533570</td>\n",
       "      <td>552.0</td>\n",
       "      <td>745.0</td>\n",
       "      <td>1316.0</td>\n",
       "      <td>2770.0</td>\n",
       "      <td>4000.0</td>\n",
       "      <td>1</td>\n",
       "      <td>0.0</td>\n",
       "    </tr>\n",
       "  </tbody>\n",
       "</table>\n",
       "</div>"
      ],
      "text/plain": [
       "         uid  for_count  favorite_device  label     play_time  \\\n",
       "0        0.0     193989                1      0  1.052149e+10   \n",
       "1   533817.0      82304                1      0  9.345974e+08   \n",
       "2   751824.0       7129                1      0  2.308999e+09   \n",
       "3   924065.0      29767                1      0  3.173783e+08   \n",
       "4  1342999.0       4004                1      0  3.983850e+05   \n",
       "\n",
       "   completion_ratio     win1     win2     win3      win4      win5  \\\n",
       "0        129.218331  16142.0  29143.0  74499.0  141200.0  182377.0   \n",
       "1         36.393828   2940.0  10078.0  24079.0   46313.0   75329.0   \n",
       "2    -321123.118894      NaN      NaN   1644.0    6880.0    6880.0   \n",
       "3         34.594272    516.0    764.0   2186.0   24489.0   29103.0   \n",
       "4          0.533570    552.0    745.0   1316.0    2770.0    4000.0   \n",
       "\n",
       "   song language  song_type  \n",
       "0              1        0.0  \n",
       "1              1        0.0  \n",
       "2              1        1.0  \n",
       "3              1        0.0  \n",
       "4              1        0.0  "
      ]
     },
     "execution_count": 60,
     "metadata": {},
     "output_type": "execute_result"
    }
   ],
   "source": [
    "df1.head()"
   ]
  },
  {
   "cell_type": "code",
   "execution_count": 61,
   "metadata": {
    "collapsed": true
   },
   "outputs": [],
   "source": [
    "x_y = df1"
   ]
  },
  {
   "cell_type": "code",
   "execution_count": 62,
   "metadata": {
    "collapsed": false
   },
   "outputs": [
    {
     "data": {
      "text/html": [
       "<div>\n",
       "<style>\n",
       "    .dataframe thead tr:only-child th {\n",
       "        text-align: right;\n",
       "    }\n",
       "\n",
       "    .dataframe thead th {\n",
       "        text-align: left;\n",
       "    }\n",
       "\n",
       "    .dataframe tbody tr th {\n",
       "        vertical-align: top;\n",
       "    }\n",
       "</style>\n",
       "<table border=\"1\" class=\"dataframe\">\n",
       "  <thead>\n",
       "    <tr style=\"text-align: right;\">\n",
       "      <th></th>\n",
       "      <th>uid</th>\n",
       "      <th>for_count</th>\n",
       "      <th>favorite_device</th>\n",
       "      <th>label</th>\n",
       "      <th>play_time</th>\n",
       "      <th>completion_ratio</th>\n",
       "      <th>win1</th>\n",
       "      <th>win2</th>\n",
       "      <th>win3</th>\n",
       "      <th>win4</th>\n",
       "      <th>win5</th>\n",
       "      <th>song language</th>\n",
       "      <th>song_type</th>\n",
       "      <th>is_train</th>\n",
       "    </tr>\n",
       "  </thead>\n",
       "  <tbody>\n",
       "    <tr>\n",
       "      <th>0</th>\n",
       "      <td>0.0</td>\n",
       "      <td>193989</td>\n",
       "      <td>1</td>\n",
       "      <td>0</td>\n",
       "      <td>1.052149e+10</td>\n",
       "      <td>129.218331</td>\n",
       "      <td>16142.0</td>\n",
       "      <td>29143.0</td>\n",
       "      <td>74499.0</td>\n",
       "      <td>141200.0</td>\n",
       "      <td>182377.0</td>\n",
       "      <td>1</td>\n",
       "      <td>0.0</td>\n",
       "      <td>False</td>\n",
       "    </tr>\n",
       "    <tr>\n",
       "      <th>1</th>\n",
       "      <td>533817.0</td>\n",
       "      <td>82304</td>\n",
       "      <td>1</td>\n",
       "      <td>0</td>\n",
       "      <td>9.345974e+08</td>\n",
       "      <td>36.393828</td>\n",
       "      <td>2940.0</td>\n",
       "      <td>10078.0</td>\n",
       "      <td>24079.0</td>\n",
       "      <td>46313.0</td>\n",
       "      <td>75329.0</td>\n",
       "      <td>1</td>\n",
       "      <td>0.0</td>\n",
       "      <td>True</td>\n",
       "    </tr>\n",
       "    <tr>\n",
       "      <th>2</th>\n",
       "      <td>751824.0</td>\n",
       "      <td>7129</td>\n",
       "      <td>1</td>\n",
       "      <td>0</td>\n",
       "      <td>2.308999e+09</td>\n",
       "      <td>-321123.118894</td>\n",
       "      <td>NaN</td>\n",
       "      <td>NaN</td>\n",
       "      <td>1644.0</td>\n",
       "      <td>6880.0</td>\n",
       "      <td>6880.0</td>\n",
       "      <td>1</td>\n",
       "      <td>1.0</td>\n",
       "      <td>True</td>\n",
       "    </tr>\n",
       "    <tr>\n",
       "      <th>3</th>\n",
       "      <td>924065.0</td>\n",
       "      <td>29767</td>\n",
       "      <td>1</td>\n",
       "      <td>0</td>\n",
       "      <td>3.173783e+08</td>\n",
       "      <td>34.594272</td>\n",
       "      <td>516.0</td>\n",
       "      <td>764.0</td>\n",
       "      <td>2186.0</td>\n",
       "      <td>24489.0</td>\n",
       "      <td>29103.0</td>\n",
       "      <td>1</td>\n",
       "      <td>0.0</td>\n",
       "      <td>True</td>\n",
       "    </tr>\n",
       "    <tr>\n",
       "      <th>4</th>\n",
       "      <td>1342999.0</td>\n",
       "      <td>4004</td>\n",
       "      <td>1</td>\n",
       "      <td>0</td>\n",
       "      <td>3.983850e+05</td>\n",
       "      <td>0.533570</td>\n",
       "      <td>552.0</td>\n",
       "      <td>745.0</td>\n",
       "      <td>1316.0</td>\n",
       "      <td>2770.0</td>\n",
       "      <td>4000.0</td>\n",
       "      <td>1</td>\n",
       "      <td>0.0</td>\n",
       "      <td>True</td>\n",
       "    </tr>\n",
       "  </tbody>\n",
       "</table>\n",
       "</div>"
      ],
      "text/plain": [
       "         uid  for_count  favorite_device  label     play_time  \\\n",
       "0        0.0     193989                1      0  1.052149e+10   \n",
       "1   533817.0      82304                1      0  9.345974e+08   \n",
       "2   751824.0       7129                1      0  2.308999e+09   \n",
       "3   924065.0      29767                1      0  3.173783e+08   \n",
       "4  1342999.0       4004                1      0  3.983850e+05   \n",
       "\n",
       "   completion_ratio     win1     win2     win3      win4      win5  \\\n",
       "0        129.218331  16142.0  29143.0  74499.0  141200.0  182377.0   \n",
       "1         36.393828   2940.0  10078.0  24079.0   46313.0   75329.0   \n",
       "2    -321123.118894      NaN      NaN   1644.0    6880.0    6880.0   \n",
       "3         34.594272    516.0    764.0   2186.0   24489.0   29103.0   \n",
       "4          0.533570    552.0    745.0   1316.0    2770.0    4000.0   \n",
       "\n",
       "   song language  song_type  is_train  \n",
       "0              1        0.0     False  \n",
       "1              1        0.0      True  \n",
       "2              1        1.0      True  \n",
       "3              1        0.0      True  \n",
       "4              1        0.0      True  "
      ]
     },
     "execution_count": 62,
     "metadata": {},
     "output_type": "execute_result"
    }
   ],
   "source": [
    "x_y['is_train'] = np.random.uniform(0, 1, len(df1)) <= .75\n",
    "x_y.head()"
   ]
  },
  {
   "cell_type": "code",
   "execution_count": 63,
   "metadata": {
    "collapsed": true
   },
   "outputs": [],
   "source": [
    "train, test = x_y[x_y['is_train']==True], x_y[x_y['is_train']==False]"
   ]
  },
  {
   "cell_type": "code",
   "execution_count": 64,
   "metadata": {
    "collapsed": false
   },
   "outputs": [
    {
     "data": {
      "text/plain": [
       "uid                     0\n",
       "for_count               0\n",
       "favorite_device         0\n",
       "label                   0\n",
       "play_time               0\n",
       "completion_ratio      190\n",
       "win1                17039\n",
       "win2                11987\n",
       "win3                 7132\n",
       "win4                 2993\n",
       "win5                    3\n",
       "song language           0\n",
       "song_type               3\n",
       "is_train                0\n",
       "dtype: int64"
      ]
     },
     "execution_count": 64,
     "metadata": {},
     "output_type": "execute_result"
    }
   ],
   "source": [
    "x_y.isnull().sum()"
   ]
  },
  {
   "cell_type": "code",
   "execution_count": 65,
   "metadata": {
    "collapsed": true
   },
   "outputs": [],
   "source": [
    "x_y.loc[x_y.win1.isnull(),'win1'] = 0\n",
    "x_y.loc[x_y.win2.isnull(),'win2'] = 0\n",
    "x_y.loc[x_y.win3.isnull(),'win3'] = 0\n",
    "x_y.loc[x_y.win4.isnull(),'win4'] = 0\n",
    "x_y.loc[x_y.win5.isnull(),'win5'] = 0\n",
    "x_y.loc[x_y.completion_ratio.isnull(),'completion_ratio'] = 0\n",
    "x_y.loc[x_y.song_type.isnull(),'song_type'] = 5"
   ]
  },
  {
   "cell_type": "code",
   "execution_count": 66,
   "metadata": {
    "collapsed": false
   },
   "outputs": [],
   "source": [
    "xs = x_y.drop(['label', 'is_train', 'uid'],axis = 1)"
   ]
  },
  {
   "cell_type": "code",
   "execution_count": 67,
   "metadata": {
    "collapsed": true
   },
   "outputs": [],
   "source": [
    "features = xs.columns"
   ]
  },
  {
   "cell_type": "code",
   "execution_count": 68,
   "metadata": {
    "collapsed": false
   },
   "outputs": [
    {
     "data": {
      "text/plain": [
       "Index([u'for_count', u'favorite_device', u'play_time', u'completion_ratio',\n",
       "       u'win1', u'win2', u'win3', u'win4', u'win5', u'song language',\n",
       "       u'song_type'],\n",
       "      dtype='object')"
      ]
     },
     "execution_count": 68,
     "metadata": {},
     "output_type": "execute_result"
    }
   ],
   "source": [
    "features"
   ]
  },
  {
   "cell_type": "code",
   "execution_count": 69,
   "metadata": {
    "collapsed": true
   },
   "outputs": [],
   "source": [
    "x = x_y[features]"
   ]
  },
  {
   "cell_type": "code",
   "execution_count": 70,
   "metadata": {
    "collapsed": true
   },
   "outputs": [],
   "source": [
    "y = x_y['label']"
   ]
  },
  {
   "cell_type": "code",
   "execution_count": 71,
   "metadata": {
    "collapsed": false
   },
   "outputs": [
    {
     "data": {
      "text/plain": [
       "((7617, 11), (7617L,))"
      ]
     },
     "execution_count": 71,
     "metadata": {},
     "output_type": "execute_result"
    }
   ],
   "source": [
    "from sklearn.cross_validation import train_test_split\n",
    "x_train, x_test, y_train, y_test = train_test_split(x, y, test_size=0.3, random_state=42)\n",
    "\n",
    "x_test.shape, y_test.shape"
   ]
  },
  {
   "cell_type": "code",
   "execution_count": 44,
   "metadata": {
    "collapsed": false
   },
   "outputs": [
    {
     "name": "stdout",
     "output_type": "stream",
     "text": [
      "{'max_features': 'sqrt', 'n_estimators': 200, 'n_jobs': -1}\n"
     ]
    }
   ],
   "source": [
    "rfc = RandomForestClassifier(n_jobs=-1,max_features= 'sqrt' ,n_estimators=50, oob_score = True) \n",
    "\n",
    "param_grid = { \n",
    "    'n_jobs': [-1, 2],\n",
    "    'n_estimators': [200, 700],\n",
    "    'max_features': ['auto', 'sqrt', 'log2']\n",
    "}\n",
    "\n",
    "CV_rfc = GridSearchCV(estimator=rfc, param_grid=param_grid, cv= 5)\n",
    "CV_rfc.fit(x_train, y_train)\n",
    "print CV_rfc.best_params_"
   ]
  },
  {
   "cell_type": "code",
   "execution_count": 72,
   "metadata": {
    "collapsed": false
   },
   "outputs": [],
   "source": [
    "clf = RandomForestClassifier(n_jobs=-1, max_features = 'sqrt', min_samples_leaf=20, n_estimators = 200)"
   ]
  },
  {
   "cell_type": "code",
   "execution_count": 73,
   "metadata": {
    "collapsed": false
   },
   "outputs": [
    {
     "data": {
      "text/plain": [
       "RandomForestClassifier(bootstrap=True, class_weight=None, criterion='gini',\n",
       "            max_depth=None, max_features='sqrt', max_leaf_nodes=None,\n",
       "            min_impurity_split=1e-07, min_samples_leaf=20,\n",
       "            min_samples_split=2, min_weight_fraction_leaf=0.0,\n",
       "            n_estimators=200, n_jobs=-1, oob_score=False,\n",
       "            random_state=None, verbose=0, warm_start=False)"
      ]
     },
     "execution_count": 73,
     "metadata": {},
     "output_type": "execute_result"
    }
   ],
   "source": [
    "clf.fit(x_train, y_train)"
   ]
  },
  {
   "cell_type": "code",
   "execution_count": 74,
   "metadata": {
    "collapsed": false
   },
   "outputs": [
    {
     "data": {
      "text/plain": [
       "(0.79665785179767057, 0.7613233556518314)"
      ]
     },
     "execution_count": 74,
     "metadata": {},
     "output_type": "execute_result"
    }
   ],
   "source": [
    "clf.score(x_train, y_train),clf.score(x_test, y_test)"
   ]
  },
  {
   "cell_type": "code",
   "execution_count": 75,
   "metadata": {
    "collapsed": false
   },
   "outputs": [
    {
     "data": {
      "text/plain": [
       "0.76131357844518144"
      ]
     },
     "execution_count": 75,
     "metadata": {},
     "output_type": "execute_result"
    }
   ],
   "source": [
    "roc_auc_score(y_test, clf.predict(x_test))"
   ]
  },
  {
   "cell_type": "code",
   "execution_count": 76,
   "metadata": {
    "collapsed": false
   },
   "outputs": [
    {
     "data": {
      "text/plain": [
       "array([ 0.06621734,  0.00926839,  0.06124981,  0.05013258,  0.12706216,\n",
       "        0.24954369,  0.22155953,  0.14333722,  0.06891522,  0.00151017,\n",
       "        0.0012039 ])"
      ]
     },
     "execution_count": 76,
     "metadata": {},
     "output_type": "execute_result"
    }
   ],
   "source": [
    "importance_coeff = clf.feature_importances_\n",
    "importance_coeff"
   ]
  },
  {
   "cell_type": "code",
   "execution_count": 77,
   "metadata": {
    "collapsed": false
   },
   "outputs": [
    {
     "data": {
      "text/html": [
       "<div>\n",
       "<style>\n",
       "    .dataframe thead tr:only-child th {\n",
       "        text-align: right;\n",
       "    }\n",
       "\n",
       "    .dataframe thead th {\n",
       "        text-align: left;\n",
       "    }\n",
       "\n",
       "    .dataframe tbody tr th {\n",
       "        vertical-align: top;\n",
       "    }\n",
       "</style>\n",
       "<table border=\"1\" class=\"dataframe\">\n",
       "  <thead>\n",
       "    <tr style=\"text-align: right;\">\n",
       "      <th></th>\n",
       "      <th>feature</th>\n",
       "      <th>coeff</th>\n",
       "    </tr>\n",
       "  </thead>\n",
       "  <tbody>\n",
       "    <tr>\n",
       "      <th>5</th>\n",
       "      <td>win2</td>\n",
       "      <td>0.249544</td>\n",
       "    </tr>\n",
       "    <tr>\n",
       "      <th>6</th>\n",
       "      <td>win3</td>\n",
       "      <td>0.221560</td>\n",
       "    </tr>\n",
       "    <tr>\n",
       "      <th>7</th>\n",
       "      <td>win4</td>\n",
       "      <td>0.143337</td>\n",
       "    </tr>\n",
       "    <tr>\n",
       "      <th>4</th>\n",
       "      <td>win1</td>\n",
       "      <td>0.127062</td>\n",
       "    </tr>\n",
       "    <tr>\n",
       "      <th>8</th>\n",
       "      <td>win5</td>\n",
       "      <td>0.068915</td>\n",
       "    </tr>\n",
       "    <tr>\n",
       "      <th>0</th>\n",
       "      <td>for_count</td>\n",
       "      <td>0.066217</td>\n",
       "    </tr>\n",
       "    <tr>\n",
       "      <th>2</th>\n",
       "      <td>play_time</td>\n",
       "      <td>0.061250</td>\n",
       "    </tr>\n",
       "    <tr>\n",
       "      <th>3</th>\n",
       "      <td>completion_ratio</td>\n",
       "      <td>0.050133</td>\n",
       "    </tr>\n",
       "    <tr>\n",
       "      <th>1</th>\n",
       "      <td>favorite_device</td>\n",
       "      <td>0.009268</td>\n",
       "    </tr>\n",
       "    <tr>\n",
       "      <th>9</th>\n",
       "      <td>song language</td>\n",
       "      <td>0.001510</td>\n",
       "    </tr>\n",
       "    <tr>\n",
       "      <th>10</th>\n",
       "      <td>song_type</td>\n",
       "      <td>0.001204</td>\n",
       "    </tr>\n",
       "  </tbody>\n",
       "</table>\n",
       "</div>"
      ],
      "text/plain": [
       "             feature     coeff\n",
       "5               win2  0.249544\n",
       "6               win3  0.221560\n",
       "7               win4  0.143337\n",
       "4               win1  0.127062\n",
       "8               win5  0.068915\n",
       "0          for_count  0.066217\n",
       "2          play_time  0.061250\n",
       "3   completion_ratio  0.050133\n",
       "1    favorite_device  0.009268\n",
       "9      song language  0.001510\n",
       "10         song_type  0.001204"
      ]
     },
     "execution_count": 77,
     "metadata": {},
     "output_type": "execute_result"
    }
   ],
   "source": [
    "df_coeffs = pd.DataFrame(list(zip(features, importance_coeff))).sort_values(by=[1], ascending=True)\n",
    "df_coeffs.columns = ['feature', 'coeff']\n",
    "df_coeffs.iloc[::-1,:]"
   ]
  },
  {
   "cell_type": "code",
   "execution_count": 79,
   "metadata": {
    "collapsed": true
   },
   "outputs": [],
   "source": [
    "import matplotlib.pyplot as plt\n",
    "\n",
    "% matplotlib inline\n",
    "# Always make it pretty.\n",
    "plt.style.use('ggplot')"
   ]
  },
  {
   "cell_type": "code",
   "execution_count": 80,
   "metadata": {
    "collapsed": false
   },
   "outputs": [
    {
     "data": {
      "image/png": "[encoded data removed]",
      "text/plain": [
       "<matplotlib.figure.Figure at 0x12b17828>"
      ]
     },
     "metadata": {},
     "output_type": "display_data"
    }
   ],
   "source": [
    "ax = df_coeffs.plot.barh()\n",
    "t = np.arange(x.shape[1])\n",
    "ax.set_yticks(t)\n",
    "ax.set_yticklabels(df_coeffs['feature'])\n",
    "plt.rcParams[\"figure.figsize\"] = (8,10)\n",
    "plt.show()"
   ]
  },
  {
   "cell_type": "code",
   "execution_count": 81,
   "metadata": {
    "collapsed": true
   },
   "outputs": [],
   "source": [
    "x_y_1 = x_y"
   ]
  },
  {
   "cell_type": "code",
   "execution_count": 100,
   "metadata": {
    "collapsed": false
   },
   "outputs": [],
   "source": [
    "# x_y_1['1over5'] = x_y['win1']/x_y['win5']\n",
    "x_y_1['1over5'] = x_y['win1']/(x_y['win5']+1)"
   ]
  },
  {
   "cell_type": "code",
   "execution_count": 101,
   "metadata": {
    "collapsed": true
   },
   "outputs": [],
   "source": [
    "x_y_1['2over5'] = x_y['win2']/(x_y['win5']+1)\n",
    "x_y_1['3over5'] = x_y['win3']/(x_y['win5']+1)\n",
    "x_y_1['4over5'] = x_y['win4']/(x_y['win5']+1)\n",
    "x_y_1['1over4'] = x_y['win1']/(x_y['win4']+1)\n",
    "x_y_1['2over4'] = x_y['win2']/(x_y['win4']+1)\n",
    "x_y_1['3over4'] = x_y['win3']/(x_y['win4']+1)\n",
    "x_y_1['1over3'] = x_y['win1']/(x_y['win3']+1)\n",
    "x_y_1['2over3'] = x_y['win2']/(x_y['win3']+1)\n",
    "x_y_1['1over2'] = x_y['win1']/(x_y['win2']+1)"
   ]
  },
  {
   "cell_type": "code",
   "execution_count": 102,
   "metadata": {
    "collapsed": false
   },
   "outputs": [
    {
     "data": {
      "text/html": [
       "<div>\n",
       "<style>\n",
       "    .dataframe thead tr:only-child th {\n",
       "        text-align: right;\n",
       "    }\n",
       "\n",
       "    .dataframe thead th {\n",
       "        text-align: left;\n",
       "    }\n",
       "\n",
       "    .dataframe tbody tr th {\n",
       "        vertical-align: top;\n",
       "    }\n",
       "</style>\n",
       "<table border=\"1\" class=\"dataframe\">\n",
       "  <thead>\n",
       "    <tr style=\"text-align: right;\">\n",
       "      <th></th>\n",
       "      <th>uid</th>\n",
       "      <th>for_count</th>\n",
       "      <th>favorite_device</th>\n",
       "      <th>label</th>\n",
       "      <th>play_time</th>\n",
       "      <th>completion_ratio</th>\n",
       "      <th>win1</th>\n",
       "      <th>win2</th>\n",
       "      <th>win3</th>\n",
       "      <th>win4</th>\n",
       "      <th>...</th>\n",
       "      <th>1over5</th>\n",
       "      <th>2over5</th>\n",
       "      <th>3over5</th>\n",
       "      <th>4over5</th>\n",
       "      <th>1over4</th>\n",
       "      <th>2over4</th>\n",
       "      <th>3over4</th>\n",
       "      <th>1over3</th>\n",
       "      <th>2over3</th>\n",
       "      <th>1over2</th>\n",
       "    </tr>\n",
       "  </thead>\n",
       "  <tbody>\n",
       "    <tr>\n",
       "      <th>0</th>\n",
       "      <td>0.0</td>\n",
       "      <td>193989</td>\n",
       "      <td>1</td>\n",
       "      <td>0</td>\n",
       "      <td>1.052149e+10</td>\n",
       "      <td>129.218331</td>\n",
       "      <td>16142.0</td>\n",
       "      <td>29143.0</td>\n",
       "      <td>74499.0</td>\n",
       "      <td>141200.0</td>\n",
       "      <td>...</td>\n",
       "      <td>0.088508</td>\n",
       "      <td>0.159794</td>\n",
       "      <td>0.408487</td>\n",
       "      <td>0.774216</td>\n",
       "      <td>0.114319</td>\n",
       "      <td>0.206394</td>\n",
       "      <td>0.527610</td>\n",
       "      <td>0.216671</td>\n",
       "      <td>0.391181</td>\n",
       "      <td>0.553870</td>\n",
       "    </tr>\n",
       "    <tr>\n",
       "      <th>1</th>\n",
       "      <td>533817.0</td>\n",
       "      <td>82304</td>\n",
       "      <td>1</td>\n",
       "      <td>0</td>\n",
       "      <td>9.345974e+08</td>\n",
       "      <td>36.393828</td>\n",
       "      <td>2940.0</td>\n",
       "      <td>10078.0</td>\n",
       "      <td>24079.0</td>\n",
       "      <td>46313.0</td>\n",
       "      <td>...</td>\n",
       "      <td>0.039028</td>\n",
       "      <td>0.133785</td>\n",
       "      <td>0.319647</td>\n",
       "      <td>0.614802</td>\n",
       "      <td>0.063480</td>\n",
       "      <td>0.217602</td>\n",
       "      <td>0.519908</td>\n",
       "      <td>0.122093</td>\n",
       "      <td>0.418522</td>\n",
       "      <td>0.291696</td>\n",
       "    </tr>\n",
       "    <tr>\n",
       "      <th>2</th>\n",
       "      <td>751824.0</td>\n",
       "      <td>7129</td>\n",
       "      <td>1</td>\n",
       "      <td>0</td>\n",
       "      <td>2.308999e+09</td>\n",
       "      <td>-321123.118894</td>\n",
       "      <td>0.0</td>\n",
       "      <td>0.0</td>\n",
       "      <td>1644.0</td>\n",
       "      <td>6880.0</td>\n",
       "      <td>...</td>\n",
       "      <td>0.000000</td>\n",
       "      <td>0.000000</td>\n",
       "      <td>0.238919</td>\n",
       "      <td>0.999855</td>\n",
       "      <td>0.000000</td>\n",
       "      <td>0.000000</td>\n",
       "      <td>0.238919</td>\n",
       "      <td>0.000000</td>\n",
       "      <td>0.000000</td>\n",
       "      <td>0.000000</td>\n",
       "    </tr>\n",
       "    <tr>\n",
       "      <th>3</th>\n",
       "      <td>924065.0</td>\n",
       "      <td>29767</td>\n",
       "      <td>1</td>\n",
       "      <td>0</td>\n",
       "      <td>3.173783e+08</td>\n",
       "      <td>34.594272</td>\n",
       "      <td>516.0</td>\n",
       "      <td>764.0</td>\n",
       "      <td>2186.0</td>\n",
       "      <td>24489.0</td>\n",
       "      <td>...</td>\n",
       "      <td>0.017730</td>\n",
       "      <td>0.026251</td>\n",
       "      <td>0.075110</td>\n",
       "      <td>0.841431</td>\n",
       "      <td>0.021070</td>\n",
       "      <td>0.031196</td>\n",
       "      <td>0.089261</td>\n",
       "      <td>0.235940</td>\n",
       "      <td>0.349337</td>\n",
       "      <td>0.674510</td>\n",
       "    </tr>\n",
       "    <tr>\n",
       "      <th>4</th>\n",
       "      <td>1342999.0</td>\n",
       "      <td>4004</td>\n",
       "      <td>1</td>\n",
       "      <td>0</td>\n",
       "      <td>3.983850e+05</td>\n",
       "      <td>0.533570</td>\n",
       "      <td>552.0</td>\n",
       "      <td>745.0</td>\n",
       "      <td>1316.0</td>\n",
       "      <td>2770.0</td>\n",
       "      <td>...</td>\n",
       "      <td>0.137966</td>\n",
       "      <td>0.186203</td>\n",
       "      <td>0.328918</td>\n",
       "      <td>0.692327</td>\n",
       "      <td>0.199206</td>\n",
       "      <td>0.268856</td>\n",
       "      <td>0.474919</td>\n",
       "      <td>0.419134</td>\n",
       "      <td>0.565680</td>\n",
       "      <td>0.739946</td>\n",
       "    </tr>\n",
       "  </tbody>\n",
       "</table>\n",
       "<p>5 rows × 24 columns</p>\n",
       "</div>"
      ],
      "text/plain": [
       "         uid  for_count  favorite_device  label     play_time  \\\n",
       "0        0.0     193989                1      0  1.052149e+10   \n",
       "1   533817.0      82304                1      0  9.345974e+08   \n",
       "2   751824.0       7129                1      0  2.308999e+09   \n",
       "3   924065.0      29767                1      0  3.173783e+08   \n",
       "4  1342999.0       4004                1      0  3.983850e+05   \n",
       "\n",
       "   completion_ratio     win1     win2     win3      win4    ...       1over5  \\\n",
       "0        129.218331  16142.0  29143.0  74499.0  141200.0    ...     0.088508   \n",
       "1         36.393828   2940.0  10078.0  24079.0   46313.0    ...     0.039028   \n",
       "2    -321123.118894      0.0      0.0   1644.0    6880.0    ...     0.000000   \n",
       "3         34.594272    516.0    764.0   2186.0   24489.0    ...     0.017730   \n",
       "4          0.533570    552.0    745.0   1316.0    2770.0    ...     0.137966   \n",
       "\n",
       "     2over5    3over5    4over5    1over4    2over4    3over4    1over3  \\\n",
       "0  0.159794  0.408487  0.774216  0.114319  0.206394  0.527610  0.216671   \n",
       "1  0.133785  0.319647  0.614802  0.063480  0.217602  0.519908  0.122093   \n",
       "2  0.000000  0.238919  0.999855  0.000000  0.000000  0.238919  0.000000   \n",
       "3  0.026251  0.075110  0.841431  0.021070  0.031196  0.089261  0.235940   \n",
       "4  0.186203  0.328918  0.692327  0.199206  0.268856  0.474919  0.419134   \n",
       "\n",
       "     2over3    1over2  \n",
       "0  0.391181  0.553870  \n",
       "1  0.418522  0.291696  \n",
       "2  0.000000  0.000000  \n",
       "3  0.349337  0.674510  \n",
       "4  0.565680  0.739946  \n",
       "\n",
       "[5 rows x 24 columns]"
      ]
     },
     "execution_count": 102,
     "metadata": {},
     "output_type": "execute_result"
    }
   ],
   "source": [
    "x_y_1.head()"
   ]
  },
  {
   "cell_type": "code",
   "execution_count": 103,
   "metadata": {
    "collapsed": true
   },
   "outputs": [],
   "source": [
    "xs_1 = x_y_1.drop(['label', 'is_train', 'uid'],axis = 1)\n",
    "features = xs_1.columns"
   ]
  },
  {
   "cell_type": "code",
   "execution_count": 104,
   "metadata": {
    "collapsed": true
   },
   "outputs": [],
   "source": [
    "x_1 = x_y_1[features]\n",
    "y_1 = x_y_1['label']"
   ]
  },
  {
   "cell_type": "code",
   "execution_count": 105,
   "metadata": {
    "collapsed": false
   },
   "outputs": [
    {
     "data": {
      "text/html": [
       "<div>\n",
       "<style>\n",
       "    .dataframe thead tr:only-child th {\n",
       "        text-align: right;\n",
       "    }\n",
       "\n",
       "    .dataframe thead th {\n",
       "        text-align: left;\n",
       "    }\n",
       "\n",
       "    .dataframe tbody tr th {\n",
       "        vertical-align: top;\n",
       "    }\n",
       "</style>\n",
       "<table border=\"1\" class=\"dataframe\">\n",
       "  <thead>\n",
       "    <tr style=\"text-align: right;\">\n",
       "      <th></th>\n",
       "      <th>for_count</th>\n",
       "      <th>favorite_device</th>\n",
       "      <th>play_time</th>\n",
       "      <th>completion_ratio</th>\n",
       "      <th>win1</th>\n",
       "      <th>win2</th>\n",
       "      <th>win3</th>\n",
       "      <th>win4</th>\n",
       "      <th>win5</th>\n",
       "      <th>song language</th>\n",
       "      <th>...</th>\n",
       "      <th>1over5</th>\n",
       "      <th>2over5</th>\n",
       "      <th>3over5</th>\n",
       "      <th>4over5</th>\n",
       "      <th>1over4</th>\n",
       "      <th>2over4</th>\n",
       "      <th>3over4</th>\n",
       "      <th>1over3</th>\n",
       "      <th>2over3</th>\n",
       "      <th>1over2</th>\n",
       "    </tr>\n",
       "  </thead>\n",
       "  <tbody>\n",
       "    <tr>\n",
       "      <th>0</th>\n",
       "      <td>193989</td>\n",
       "      <td>1</td>\n",
       "      <td>1.052149e+10</td>\n",
       "      <td>129.218331</td>\n",
       "      <td>16142.0</td>\n",
       "      <td>29143.0</td>\n",
       "      <td>74499.0</td>\n",
       "      <td>141200.0</td>\n",
       "      <td>182377.0</td>\n",
       "      <td>1</td>\n",
       "      <td>...</td>\n",
       "      <td>0.088508</td>\n",
       "      <td>0.159794</td>\n",
       "      <td>0.408487</td>\n",
       "      <td>0.774216</td>\n",
       "      <td>0.114319</td>\n",
       "      <td>0.206394</td>\n",
       "      <td>0.527610</td>\n",
       "      <td>0.216671</td>\n",
       "      <td>0.391181</td>\n",
       "      <td>0.553870</td>\n",
       "    </tr>\n",
       "    <tr>\n",
       "      <th>1</th>\n",
       "      <td>82304</td>\n",
       "      <td>1</td>\n",
       "      <td>9.345974e+08</td>\n",
       "      <td>36.393828</td>\n",
       "      <td>2940.0</td>\n",
       "      <td>10078.0</td>\n",
       "      <td>24079.0</td>\n",
       "      <td>46313.0</td>\n",
       "      <td>75329.0</td>\n",
       "      <td>1</td>\n",
       "      <td>...</td>\n",
       "      <td>0.039028</td>\n",
       "      <td>0.133785</td>\n",
       "      <td>0.319647</td>\n",
       "      <td>0.614802</td>\n",
       "      <td>0.063480</td>\n",
       "      <td>0.217602</td>\n",
       "      <td>0.519908</td>\n",
       "      <td>0.122093</td>\n",
       "      <td>0.418522</td>\n",
       "      <td>0.291696</td>\n",
       "    </tr>\n",
       "    <tr>\n",
       "      <th>2</th>\n",
       "      <td>7129</td>\n",
       "      <td>1</td>\n",
       "      <td>2.308999e+09</td>\n",
       "      <td>-321123.118894</td>\n",
       "      <td>0.0</td>\n",
       "      <td>0.0</td>\n",
       "      <td>1644.0</td>\n",
       "      <td>6880.0</td>\n",
       "      <td>6880.0</td>\n",
       "      <td>1</td>\n",
       "      <td>...</td>\n",
       "      <td>0.000000</td>\n",
       "      <td>0.000000</td>\n",
       "      <td>0.238919</td>\n",
       "      <td>0.999855</td>\n",
       "      <td>0.000000</td>\n",
       "      <td>0.000000</td>\n",
       "      <td>0.238919</td>\n",
       "      <td>0.000000</td>\n",
       "      <td>0.000000</td>\n",
       "      <td>0.000000</td>\n",
       "    </tr>\n",
       "    <tr>\n",
       "      <th>3</th>\n",
       "      <td>29767</td>\n",
       "      <td>1</td>\n",
       "      <td>3.173783e+08</td>\n",
       "      <td>34.594272</td>\n",
       "      <td>516.0</td>\n",
       "      <td>764.0</td>\n",
       "      <td>2186.0</td>\n",
       "      <td>24489.0</td>\n",
       "      <td>29103.0</td>\n",
       "      <td>1</td>\n",
       "      <td>...</td>\n",
       "      <td>0.017730</td>\n",
       "      <td>0.026251</td>\n",
       "      <td>0.075110</td>\n",
       "      <td>0.841431</td>\n",
       "      <td>0.021070</td>\n",
       "      <td>0.031196</td>\n",
       "      <td>0.089261</td>\n",
       "      <td>0.235940</td>\n",
       "      <td>0.349337</td>\n",
       "      <td>0.674510</td>\n",
       "    </tr>\n",
       "    <tr>\n",
       "      <th>4</th>\n",
       "      <td>4004</td>\n",
       "      <td>1</td>\n",
       "      <td>3.983850e+05</td>\n",
       "      <td>0.533570</td>\n",
       "      <td>552.0</td>\n",
       "      <td>745.0</td>\n",
       "      <td>1316.0</td>\n",
       "      <td>2770.0</td>\n",
       "      <td>4000.0</td>\n",
       "      <td>1</td>\n",
       "      <td>...</td>\n",
       "      <td>0.137966</td>\n",
       "      <td>0.186203</td>\n",
       "      <td>0.328918</td>\n",
       "      <td>0.692327</td>\n",
       "      <td>0.199206</td>\n",
       "      <td>0.268856</td>\n",
       "      <td>0.474919</td>\n",
       "      <td>0.419134</td>\n",
       "      <td>0.565680</td>\n",
       "      <td>0.739946</td>\n",
       "    </tr>\n",
       "  </tbody>\n",
       "</table>\n",
       "<p>5 rows × 21 columns</p>\n",
       "</div>"
      ],
      "text/plain": [
       "   for_count  favorite_device     play_time  completion_ratio     win1  \\\n",
       "0     193989                1  1.052149e+10        129.218331  16142.0   \n",
       "1      82304                1  9.345974e+08         36.393828   2940.0   \n",
       "2       7129                1  2.308999e+09    -321123.118894      0.0   \n",
       "3      29767                1  3.173783e+08         34.594272    516.0   \n",
       "4       4004                1  3.983850e+05          0.533570    552.0   \n",
       "\n",
       "      win2     win3      win4      win5  song language    ...       1over5  \\\n",
       "0  29143.0  74499.0  141200.0  182377.0              1    ...     0.088508   \n",
       "1  10078.0  24079.0   46313.0   75329.0              1    ...     0.039028   \n",
       "2      0.0   1644.0    6880.0    6880.0              1    ...     0.000000   \n",
       "3    764.0   2186.0   24489.0   29103.0              1    ...     0.017730   \n",
       "4    745.0   1316.0    2770.0    4000.0              1    ...     0.137966   \n",
       "\n",
       "     2over5    3over5    4over5    1over4    2over4    3over4    1over3  \\\n",
       "0  0.159794  0.408487  0.774216  0.114319  0.206394  0.527610  0.216671   \n",
       "1  0.133785  0.319647  0.614802  0.063480  0.217602  0.519908  0.122093   \n",
       "2  0.000000  0.238919  0.999855  0.000000  0.000000  0.238919  0.000000   \n",
       "3  0.026251  0.075110  0.841431  0.021070  0.031196  0.089261  0.235940   \n",
       "4  0.186203  0.328918  0.692327  0.199206  0.268856  0.474919  0.419134   \n",
       "\n",
       "     2over3    1over2  \n",
       "0  0.391181  0.553870  \n",
       "1  0.418522  0.291696  \n",
       "2  0.000000  0.000000  \n",
       "3  0.349337  0.674510  \n",
       "4  0.565680  0.739946  \n",
       "\n",
       "[5 rows x 21 columns]"
      ]
     },
     "execution_count": 105,
     "metadata": {},
     "output_type": "execute_result"
    }
   ],
   "source": [
    "x_1.head()"
   ]
  },
  {
   "cell_type": "code",
   "execution_count": 106,
   "metadata": {
    "collapsed": false
   },
   "outputs": [
    {
     "data": {
      "text/plain": [
       "((7617, 21), (7617L,))"
      ]
     },
     "execution_count": 106,
     "metadata": {},
     "output_type": "execute_result"
    }
   ],
   "source": [
    "x_train_1, x_test_1, y_train_1, y_test_1 = train_test_split(x_1, y_1, test_size=0.3, random_state=42)\n",
    "\n",
    "x_test_1.shape, y_test_1.shape"
   ]
  },
  {
   "cell_type": "code",
   "execution_count": 107,
   "metadata": {
    "collapsed": false
   },
   "outputs": [
    {
     "data": {
      "text/plain": [
       "for_count           0\n",
       "favorite_device     0\n",
       "play_time           0\n",
       "completion_ratio    0\n",
       "win1                0\n",
       "win2                0\n",
       "win3                0\n",
       "win4                0\n",
       "win5                0\n",
       "song language       0\n",
       "song_type           0\n",
       "1over5              0\n",
       "2over5              0\n",
       "3over5              0\n",
       "4over5              0\n",
       "1over4              0\n",
       "2over4              0\n",
       "3over4              0\n",
       "1over3              0\n",
       "2over3              0\n",
       "1over2              0\n",
       "dtype: int64"
      ]
     },
     "execution_count": 107,
     "metadata": {},
     "output_type": "execute_result"
    }
   ],
   "source": [
    "x_1.isnull().sum()"
   ]
  },
  {
   "cell_type": "code",
   "execution_count": 108,
   "metadata": {
    "collapsed": false
   },
   "outputs": [
    {
     "name": "stdout",
     "output_type": "stream",
     "text": [
      "{'max_features': 'log2', 'n_estimators': 200, 'n_jobs': 2}\n"
     ]
    }
   ],
   "source": [
    "# CV_rfc = GridSearchCV(estimator=rfc, param_grid=param_grid, cv= 5)\n",
    "# CV_rfc.fit(x_train_1, y_train_1)\n",
    "# print CV_rfc.best_params_"
   ]
  },
  {
   "cell_type": "code",
   "execution_count": 109,
   "metadata": {
    "collapsed": true
   },
   "outputs": [],
   "source": [
    "clf = RandomForestClassifier(n_jobs=2, max_features = 'log2', min_samples_leaf=20, n_estimators = 200)"
   ]
  },
  {
   "cell_type": "code",
   "execution_count": 110,
   "metadata": {
    "collapsed": false
   },
   "outputs": [
    {
     "data": {
      "text/plain": [
       "RandomForestClassifier(bootstrap=True, class_weight=None, criterion='gini',\n",
       "            max_depth=None, max_features='log2', max_leaf_nodes=None,\n",
       "            min_impurity_split=1e-07, min_samples_leaf=20,\n",
       "            min_samples_split=2, min_weight_fraction_leaf=0.0,\n",
       "            n_estimators=200, n_jobs=2, oob_score=False, random_state=None,\n",
       "            verbose=0, warm_start=False)"
      ]
     },
     "execution_count": 110,
     "metadata": {},
     "output_type": "execute_result"
    }
   ],
   "source": [
    "clf.fit(x_train_1, y_train_1)"
   ]
  },
  {
   "cell_type": "code",
   "execution_count": 111,
   "metadata": {
    "collapsed": false
   },
   "outputs": [
    {
     "data": {
      "text/plain": [
       "(0.80121532661902883, 0.7569909413154785)"
      ]
     },
     "execution_count": 111,
     "metadata": {},
     "output_type": "execute_result"
    }
   ],
   "source": [
    "clf.score(x_train_1, y_train_1),clf.score(x_test_1, y_test_1)"
   ]
  },
  {
   "cell_type": "code",
   "execution_count": 112,
   "metadata": {
    "collapsed": false
   },
   "outputs": [
    {
     "data": {
      "text/plain": [
       "array([ 0.03546296,  0.00577925,  0.04259202,  0.03103095,  0.02217883,\n",
       "        0.1359921 ,  0.08640875,  0.05890645,  0.03509027,  0.00086232,\n",
       "        0.00081679,  0.01693952,  0.09601088,  0.05918664,  0.03307196,\n",
       "        0.01374352,  0.0965846 ,  0.06537509,  0.02446299,  0.11793288,\n",
       "        0.02157123])"
      ]
     },
     "execution_count": 112,
     "metadata": {},
     "output_type": "execute_result"
    }
   ],
   "source": [
    "importance_coeff = clf.feature_importances_\n",
    "importance_coeff"
   ]
  },
  {
   "cell_type": "code",
   "execution_count": 120,
   "metadata": {
    "collapsed": false
   },
   "outputs": [
    {
     "data": {
      "text/plain": [
       "10           song_type\n",
       "9        song language\n",
       "1      favorite_device\n",
       "3     completion_ratio\n",
       "2            play_time\n",
       "0            for_count\n",
       "8                 win5\n",
       "4                 win1\n",
       "7                 win4\n",
       "6                 win3\n",
       "5                 win2\n",
       "Name: feature, dtype: object"
      ]
     },
     "execution_count": 120,
     "metadata": {},
     "output_type": "execute_result"
    }
   ],
   "source": [
    "df_coeffs_1\n",
    "df_coeffs['feature']"
   ]
  },
  {
   "cell_type": "code",
   "execution_count": 121,
   "metadata": {
    "collapsed": false
   },
   "outputs": [
    {
     "data": {
      "image/png": "[encoded data removed]",
      "text/plain": [
       "<matplotlib.figure.Figure at 0x1fc977f0>"
      ]
     },
     "metadata": {},
     "output_type": "display_data"
    }
   ],
   "source": [
    "df_coeffs_1 = pd.DataFrame(list(zip(features, importance_coeff))).sort_values(by=[1], ascending=True)\n",
    "df_coeffs_1.columns = ['feature', 'coeff']\n",
    "ax = df_coeffs_1.plot.barh()\n",
    "t = np.arange(x_1.shape[1])\n",
    "ax.set_yticks(t)\n",
    "ax.set_yticklabels(df_coeffs_1['feature'])\n",
    "plt.rcParams[\"figure.figsize\"] = (8,10)\n",
    "plt.show()"
   ]
  },
  {
   "cell_type": "code",
   "execution_count": 122,
   "metadata": {
    "collapsed": false
   },
   "outputs": [
    {
     "data": {
      "text/html": [
       "<div>\n",
       "<style>\n",
       "    .dataframe thead tr:only-child th {\n",
       "        text-align: right;\n",
       "    }\n",
       "\n",
       "    .dataframe thead th {\n",
       "        text-align: left;\n",
       "    }\n",
       "\n",
       "    .dataframe tbody tr th {\n",
       "        vertical-align: top;\n",
       "    }\n",
       "</style>\n",
       "<table border=\"1\" class=\"dataframe\">\n",
       "  <thead>\n",
       "    <tr style=\"text-align: right;\">\n",
       "      <th></th>\n",
       "      <th>uid</th>\n",
       "      <th>for_count</th>\n",
       "      <th>favorite_device</th>\n",
       "      <th>label</th>\n",
       "      <th>play_time</th>\n",
       "      <th>completion_ratio</th>\n",
       "      <th>win1</th>\n",
       "      <th>win2</th>\n",
       "      <th>win3</th>\n",
       "      <th>win4</th>\n",
       "      <th>...</th>\n",
       "      <th>1over5</th>\n",
       "      <th>2over5</th>\n",
       "      <th>3over5</th>\n",
       "      <th>4over5</th>\n",
       "      <th>1over4</th>\n",
       "      <th>2over4</th>\n",
       "      <th>3over4</th>\n",
       "      <th>1over3</th>\n",
       "      <th>2over3</th>\n",
       "      <th>1over2</th>\n",
       "    </tr>\n",
       "  </thead>\n",
       "  <tbody>\n",
       "    <tr>\n",
       "      <th>0</th>\n",
       "      <td>0.0</td>\n",
       "      <td>193989</td>\n",
       "      <td>1</td>\n",
       "      <td>0</td>\n",
       "      <td>1.052149e+10</td>\n",
       "      <td>129.218331</td>\n",
       "      <td>16142.0</td>\n",
       "      <td>29143.0</td>\n",
       "      <td>74499.0</td>\n",
       "      <td>141200.0</td>\n",
       "      <td>...</td>\n",
       "      <td>0.088508</td>\n",
       "      <td>0.159794</td>\n",
       "      <td>0.408487</td>\n",
       "      <td>0.774216</td>\n",
       "      <td>0.114319</td>\n",
       "      <td>0.206394</td>\n",
       "      <td>0.527610</td>\n",
       "      <td>0.216671</td>\n",
       "      <td>0.391181</td>\n",
       "      <td>0.553870</td>\n",
       "    </tr>\n",
       "    <tr>\n",
       "      <th>1</th>\n",
       "      <td>533817.0</td>\n",
       "      <td>82304</td>\n",
       "      <td>1</td>\n",
       "      <td>0</td>\n",
       "      <td>9.345974e+08</td>\n",
       "      <td>36.393828</td>\n",
       "      <td>2940.0</td>\n",
       "      <td>10078.0</td>\n",
       "      <td>24079.0</td>\n",
       "      <td>46313.0</td>\n",
       "      <td>...</td>\n",
       "      <td>0.039028</td>\n",
       "      <td>0.133785</td>\n",
       "      <td>0.319647</td>\n",
       "      <td>0.614802</td>\n",
       "      <td>0.063480</td>\n",
       "      <td>0.217602</td>\n",
       "      <td>0.519908</td>\n",
       "      <td>0.122093</td>\n",
       "      <td>0.418522</td>\n",
       "      <td>0.291696</td>\n",
       "    </tr>\n",
       "    <tr>\n",
       "      <th>2</th>\n",
       "      <td>751824.0</td>\n",
       "      <td>7129</td>\n",
       "      <td>1</td>\n",
       "      <td>0</td>\n",
       "      <td>2.308999e+09</td>\n",
       "      <td>-321123.118894</td>\n",
       "      <td>0.0</td>\n",
       "      <td>0.0</td>\n",
       "      <td>1644.0</td>\n",
       "      <td>6880.0</td>\n",
       "      <td>...</td>\n",
       "      <td>0.000000</td>\n",
       "      <td>0.000000</td>\n",
       "      <td>0.238919</td>\n",
       "      <td>0.999855</td>\n",
       "      <td>0.000000</td>\n",
       "      <td>0.000000</td>\n",
       "      <td>0.238919</td>\n",
       "      <td>0.000000</td>\n",
       "      <td>0.000000</td>\n",
       "      <td>0.000000</td>\n",
       "    </tr>\n",
       "    <tr>\n",
       "      <th>3</th>\n",
       "      <td>924065.0</td>\n",
       "      <td>29767</td>\n",
       "      <td>1</td>\n",
       "      <td>0</td>\n",
       "      <td>3.173783e+08</td>\n",
       "      <td>34.594272</td>\n",
       "      <td>516.0</td>\n",
       "      <td>764.0</td>\n",
       "      <td>2186.0</td>\n",
       "      <td>24489.0</td>\n",
       "      <td>...</td>\n",
       "      <td>0.017730</td>\n",
       "      <td>0.026251</td>\n",
       "      <td>0.075110</td>\n",
       "      <td>0.841431</td>\n",
       "      <td>0.021070</td>\n",
       "      <td>0.031196</td>\n",
       "      <td>0.089261</td>\n",
       "      <td>0.235940</td>\n",
       "      <td>0.349337</td>\n",
       "      <td>0.674510</td>\n",
       "    </tr>\n",
       "    <tr>\n",
       "      <th>4</th>\n",
       "      <td>1342999.0</td>\n",
       "      <td>4004</td>\n",
       "      <td>1</td>\n",
       "      <td>0</td>\n",
       "      <td>3.983850e+05</td>\n",
       "      <td>0.533570</td>\n",
       "      <td>552.0</td>\n",
       "      <td>745.0</td>\n",
       "      <td>1316.0</td>\n",
       "      <td>2770.0</td>\n",
       "      <td>...</td>\n",
       "      <td>0.137966</td>\n",
       "      <td>0.186203</td>\n",
       "      <td>0.328918</td>\n",
       "      <td>0.692327</td>\n",
       "      <td>0.199206</td>\n",
       "      <td>0.268856</td>\n",
       "      <td>0.474919</td>\n",
       "      <td>0.419134</td>\n",
       "      <td>0.565680</td>\n",
       "      <td>0.739946</td>\n",
       "    </tr>\n",
       "  </tbody>\n",
       "</table>\n",
       "<p>5 rows × 24 columns</p>\n",
       "</div>"
      ],
      "text/plain": [
       "         uid  for_count  favorite_device  label     play_time  \\\n",
       "0        0.0     193989                1      0  1.052149e+10   \n",
       "1   533817.0      82304                1      0  9.345974e+08   \n",
       "2   751824.0       7129                1      0  2.308999e+09   \n",
       "3   924065.0      29767                1      0  3.173783e+08   \n",
       "4  1342999.0       4004                1      0  3.983850e+05   \n",
       "\n",
       "   completion_ratio     win1     win2     win3      win4    ...       1over5  \\\n",
       "0        129.218331  16142.0  29143.0  74499.0  141200.0    ...     0.088508   \n",
       "1         36.393828   2940.0  10078.0  24079.0   46313.0    ...     0.039028   \n",
       "2    -321123.118894      0.0      0.0   1644.0    6880.0    ...     0.000000   \n",
       "3         34.594272    516.0    764.0   2186.0   24489.0    ...     0.017730   \n",
       "4          0.533570    552.0    745.0   1316.0    2770.0    ...     0.137966   \n",
       "\n",
       "     2over5    3over5    4over5    1over4    2over4    3over4    1over3  \\\n",
       "0  0.159794  0.408487  0.774216  0.114319  0.206394  0.527610  0.216671   \n",
       "1  0.133785  0.319647  0.614802  0.063480  0.217602  0.519908  0.122093   \n",
       "2  0.000000  0.238919  0.999855  0.000000  0.000000  0.238919  0.000000   \n",
       "3  0.026251  0.075110  0.841431  0.021070  0.031196  0.089261  0.235940   \n",
       "4  0.186203  0.328918  0.692327  0.199206  0.268856  0.474919  0.419134   \n",
       "\n",
       "     2over3    1over2  \n",
       "0  0.391181  0.553870  \n",
       "1  0.418522  0.291696  \n",
       "2  0.000000  0.000000  \n",
       "3  0.349337  0.674510  \n",
       "4  0.565680  0.739946  \n",
       "\n",
       "[5 rows x 24 columns]"
      ]
     },
     "execution_count": 122,
     "metadata": {},
     "output_type": "execute_result"
    }
   ],
   "source": [
    "x_y_1.head()"
   ]
  },
  {
   "cell_type": "code",
   "execution_count": 123,
   "metadata": {
    "collapsed": true
   },
   "outputs": [],
   "source": [
    "x_y_1.to_csv('featureV1-1.csv')"
   ]
  },
  {
   "cell_type": "code",
   "execution_count": 146,
   "metadata": {
    "collapsed": true
   },
   "outputs": [],
   "source": [
    "from sklearn.linear_model import LogisticRegression\n",
    "\n",
    "model_lr = LogisticRegression(penalty = 'l2',C= 1, n_jobs = -1)"
   ]
  },
  {
   "cell_type": "code",
   "execution_count": 147,
   "metadata": {
    "collapsed": false
   },
   "outputs": [
    {
     "data": {
      "text/plain": [
       "[[0.001, 0.49462668092049739, 0.49875278981226207],\n",
       " [0.01, 0.49462668092049739, 0.49875278981226207],\n",
       " [0.1, 0.49462668092049739, 0.49875278981226207],\n",
       " [1, 0.49462668092049739, 0.49875278981226207],\n",
       " [10, 0.49462668092049739, 0.49875278981226207],\n",
       " [100, 0.49462668092049739, 0.49875278981226207],\n",
       " [1000, 0.49462668092049739, 0.49875278981226207]]"
      ]
     },
     "execution_count": 147,
     "metadata": {},
     "output_type": "execute_result"
    }
   ],
   "source": [
    "accuracies = []\n",
    "#accuracies.columns = ['regularization','Accuracy_score_train','Accuracy_score_test']\n",
    "for c in [1e-3,1e-2,0.1,1,10,100,1000]:\n",
    "    model_lr = LogisticRegression(penalty = 'l2',C= c, n_jobs = -1)\n",
    "    model_lr.fit(x_train, y_train)\n",
    "    accuracies.append([c,model_lr.score(x_train, y_train), model_lr.score(x_test, y_test)])\n",
    "    \n",
    "accuracies"
   ]
  },
  {
   "cell_type": "code",
   "execution_count": 148,
   "metadata": {
    "collapsed": false
   },
   "outputs": [
    {
     "data": {
      "text/html": [
       "<div>\n",
       "<style>\n",
       "    .dataframe thead tr:only-child th {\n",
       "        text-align: right;\n",
       "    }\n",
       "\n",
       "    .dataframe thead th {\n",
       "        text-align: left;\n",
       "    }\n",
       "\n",
       "    .dataframe tbody tr th {\n",
       "        vertical-align: top;\n",
       "    }\n",
       "</style>\n",
       "<table border=\"1\" class=\"dataframe\">\n",
       "  <thead>\n",
       "    <tr style=\"text-align: right;\">\n",
       "      <th></th>\n",
       "      <th>for_count</th>\n",
       "      <th>favorite_device</th>\n",
       "      <th>play_time</th>\n",
       "      <th>completion_ratio</th>\n",
       "      <th>win1</th>\n",
       "      <th>win2</th>\n",
       "      <th>win3</th>\n",
       "      <th>win4</th>\n",
       "      <th>win5</th>\n",
       "      <th>song language</th>\n",
       "      <th>song_type</th>\n",
       "    </tr>\n",
       "  </thead>\n",
       "  <tbody>\n",
       "    <tr>\n",
       "      <th>12953</th>\n",
       "      <td>8</td>\n",
       "      <td>1</td>\n",
       "      <td>1191.0</td>\n",
       "      <td>0.529226</td>\n",
       "      <td>0.0</td>\n",
       "      <td>0.0</td>\n",
       "      <td>1.0</td>\n",
       "      <td>4.0</td>\n",
       "      <td>8.0</td>\n",
       "      <td>1</td>\n",
       "      <td>0.0</td>\n",
       "    </tr>\n",
       "    <tr>\n",
       "      <th>16078</th>\n",
       "      <td>97</td>\n",
       "      <td>1</td>\n",
       "      <td>20008.0</td>\n",
       "      <td>0.828501</td>\n",
       "      <td>0.0</td>\n",
       "      <td>0.0</td>\n",
       "      <td>16.0</td>\n",
       "      <td>61.0</td>\n",
       "      <td>97.0</td>\n",
       "      <td>1</td>\n",
       "      <td>0.0</td>\n",
       "    </tr>\n",
       "    <tr>\n",
       "      <th>23346</th>\n",
       "      <td>42</td>\n",
       "      <td>0</td>\n",
       "      <td>6690.0</td>\n",
       "      <td>0.849985</td>\n",
       "      <td>0.0</td>\n",
       "      <td>3.0</td>\n",
       "      <td>7.0</td>\n",
       "      <td>25.0</td>\n",
       "      <td>38.0</td>\n",
       "      <td>1</td>\n",
       "      <td>0.0</td>\n",
       "    </tr>\n",
       "    <tr>\n",
       "      <th>5833</th>\n",
       "      <td>261</td>\n",
       "      <td>1</td>\n",
       "      <td>63555.0</td>\n",
       "      <td>0.879409</td>\n",
       "      <td>0.0</td>\n",
       "      <td>0.0</td>\n",
       "      <td>0.0</td>\n",
       "      <td>134.0</td>\n",
       "      <td>261.0</td>\n",
       "      <td>1</td>\n",
       "      <td>0.0</td>\n",
       "    </tr>\n",
       "    <tr>\n",
       "      <th>4770</th>\n",
       "      <td>51</td>\n",
       "      <td>1</td>\n",
       "      <td>2940.0</td>\n",
       "      <td>0.205427</td>\n",
       "      <td>0.0</td>\n",
       "      <td>0.0</td>\n",
       "      <td>0.0</td>\n",
       "      <td>6.0</td>\n",
       "      <td>51.0</td>\n",
       "      <td>1</td>\n",
       "      <td>0.0</td>\n",
       "    </tr>\n",
       "  </tbody>\n",
       "</table>\n",
       "</div>"
      ],
      "text/plain": [
       "       for_count  favorite_device  play_time  completion_ratio  win1  win2  \\\n",
       "12953          8                1     1191.0          0.529226   0.0   0.0   \n",
       "16078         97                1    20008.0          0.828501   0.0   0.0   \n",
       "23346         42                0     6690.0          0.849985   0.0   3.0   \n",
       "5833         261                1    63555.0          0.879409   0.0   0.0   \n",
       "4770          51                1     2940.0          0.205427   0.0   0.0   \n",
       "\n",
       "       win3   win4   win5  song language  song_type  \n",
       "12953   1.0    4.0    8.0              1        0.0  \n",
       "16078  16.0   61.0   97.0              1        0.0  \n",
       "23346   7.0   25.0   38.0              1        0.0  \n",
       "5833    0.0  134.0  261.0              1        0.0  \n",
       "4770    0.0    6.0   51.0              1        0.0  "
      ]
     },
     "execution_count": 148,
     "metadata": {},
     "output_type": "execute_result"
    }
   ],
   "source": [
    "x_train.head()"
   ]
  },
  {
   "cell_type": "code",
   "execution_count": 170,
   "metadata": {
    "collapsed": true
   },
   "outputs": [],
   "source": [
    "x_y_lr = x_y"
   ]
  },
  {
   "cell_type": "code",
   "execution_count": 171,
   "metadata": {
    "collapsed": true
   },
   "outputs": [],
   "source": [
    "x_y_lr = x_y_lr[x_y_lr.uid != 0.0]"
   ]
  },
  {
   "cell_type": "code",
   "execution_count": 172,
   "metadata": {
    "collapsed": false
   },
   "outputs": [
    {
     "data": {
      "text/html": [
       "<div>\n",
       "<style>\n",
       "    .dataframe thead tr:only-child th {\n",
       "        text-align: right;\n",
       "    }\n",
       "\n",
       "    .dataframe thead th {\n",
       "        text-align: left;\n",
       "    }\n",
       "\n",
       "    .dataframe tbody tr th {\n",
       "        vertical-align: top;\n",
       "    }\n",
       "</style>\n",
       "<table border=\"1\" class=\"dataframe\">\n",
       "  <thead>\n",
       "    <tr style=\"text-align: right;\">\n",
       "      <th></th>\n",
       "      <th>uid</th>\n",
       "      <th>for_count</th>\n",
       "      <th>favorite_device</th>\n",
       "      <th>label</th>\n",
       "      <th>play_time</th>\n",
       "      <th>completion_ratio</th>\n",
       "      <th>win1</th>\n",
       "      <th>win2</th>\n",
       "      <th>win3</th>\n",
       "      <th>win4</th>\n",
       "      <th>...</th>\n",
       "      <th>1over5</th>\n",
       "      <th>2over5</th>\n",
       "      <th>3over5</th>\n",
       "      <th>4over5</th>\n",
       "      <th>1over4</th>\n",
       "      <th>2over4</th>\n",
       "      <th>3over4</th>\n",
       "      <th>1over3</th>\n",
       "      <th>2over3</th>\n",
       "      <th>1over2</th>\n",
       "    </tr>\n",
       "  </thead>\n",
       "  <tbody>\n",
       "    <tr>\n",
       "      <th>1</th>\n",
       "      <td>533817.0</td>\n",
       "      <td>58.590485</td>\n",
       "      <td>1</td>\n",
       "      <td>0</td>\n",
       "      <td>9.345974e+08</td>\n",
       "      <td>36.393828</td>\n",
       "      <td>2940.0</td>\n",
       "      <td>10078.0</td>\n",
       "      <td>24079.0</td>\n",
       "      <td>46313.0</td>\n",
       "      <td>...</td>\n",
       "      <td>0.039028</td>\n",
       "      <td>0.133785</td>\n",
       "      <td>0.319647</td>\n",
       "      <td>0.614802</td>\n",
       "      <td>0.063480</td>\n",
       "      <td>0.217602</td>\n",
       "      <td>0.519908</td>\n",
       "      <td>0.122093</td>\n",
       "      <td>0.418522</td>\n",
       "      <td>0.291696</td>\n",
       "    </tr>\n",
       "    <tr>\n",
       "      <th>2</th>\n",
       "      <td>751824.0</td>\n",
       "      <td>4.904080</td>\n",
       "      <td>1</td>\n",
       "      <td>0</td>\n",
       "      <td>2.308999e+09</td>\n",
       "      <td>-321123.118894</td>\n",
       "      <td>0.0</td>\n",
       "      <td>0.0</td>\n",
       "      <td>1644.0</td>\n",
       "      <td>6880.0</td>\n",
       "      <td>...</td>\n",
       "      <td>0.000000</td>\n",
       "      <td>0.000000</td>\n",
       "      <td>0.238919</td>\n",
       "      <td>0.999855</td>\n",
       "      <td>0.000000</td>\n",
       "      <td>0.000000</td>\n",
       "      <td>0.238919</td>\n",
       "      <td>0.000000</td>\n",
       "      <td>0.000000</td>\n",
       "      <td>0.000000</td>\n",
       "    </tr>\n",
       "    <tr>\n",
       "      <th>3</th>\n",
       "      <td>924065.0</td>\n",
       "      <td>21.071062</td>\n",
       "      <td>1</td>\n",
       "      <td>0</td>\n",
       "      <td>3.173783e+08</td>\n",
       "      <td>34.594272</td>\n",
       "      <td>516.0</td>\n",
       "      <td>764.0</td>\n",
       "      <td>2186.0</td>\n",
       "      <td>24489.0</td>\n",
       "      <td>...</td>\n",
       "      <td>0.017730</td>\n",
       "      <td>0.026251</td>\n",
       "      <td>0.075110</td>\n",
       "      <td>0.841431</td>\n",
       "      <td>0.021070</td>\n",
       "      <td>0.031196</td>\n",
       "      <td>0.089261</td>\n",
       "      <td>0.235940</td>\n",
       "      <td>0.349337</td>\n",
       "      <td>0.674510</td>\n",
       "    </tr>\n",
       "    <tr>\n",
       "      <th>4</th>\n",
       "      <td>1342999.0</td>\n",
       "      <td>2.672354</td>\n",
       "      <td>1</td>\n",
       "      <td>0</td>\n",
       "      <td>3.983850e+05</td>\n",
       "      <td>0.533570</td>\n",
       "      <td>552.0</td>\n",
       "      <td>745.0</td>\n",
       "      <td>1316.0</td>\n",
       "      <td>2770.0</td>\n",
       "      <td>...</td>\n",
       "      <td>0.137966</td>\n",
       "      <td>0.186203</td>\n",
       "      <td>0.328918</td>\n",
       "      <td>0.692327</td>\n",
       "      <td>0.199206</td>\n",
       "      <td>0.268856</td>\n",
       "      <td>0.474919</td>\n",
       "      <td>0.419134</td>\n",
       "      <td>0.565680</td>\n",
       "      <td>0.739946</td>\n",
       "    </tr>\n",
       "    <tr>\n",
       "      <th>5</th>\n",
       "      <td>1620163.0</td>\n",
       "      <td>0.069983</td>\n",
       "      <td>1</td>\n",
       "      <td>0</td>\n",
       "      <td>2.902500e+04</td>\n",
       "      <td>0.342141</td>\n",
       "      <td>0.0</td>\n",
       "      <td>0.0</td>\n",
       "      <td>39.0</td>\n",
       "      <td>118.0</td>\n",
       "      <td>...</td>\n",
       "      <td>0.000000</td>\n",
       "      <td>0.000000</td>\n",
       "      <td>0.120370</td>\n",
       "      <td>0.364198</td>\n",
       "      <td>0.000000</td>\n",
       "      <td>0.000000</td>\n",
       "      <td>0.327731</td>\n",
       "      <td>0.000000</td>\n",
       "      <td>0.000000</td>\n",
       "      <td>0.000000</td>\n",
       "    </tr>\n",
       "  </tbody>\n",
       "</table>\n",
       "<p>5 rows × 24 columns</p>\n",
       "</div>"
      ],
      "text/plain": [
       "         uid  for_count  favorite_device  label     play_time  \\\n",
       "1   533817.0  58.590485                1      0  9.345974e+08   \n",
       "2   751824.0   4.904080                1      0  2.308999e+09   \n",
       "3   924065.0  21.071062                1      0  3.173783e+08   \n",
       "4  1342999.0   2.672354                1      0  3.983850e+05   \n",
       "5  1620163.0   0.069983                1      0  2.902500e+04   \n",
       "\n",
       "   completion_ratio    win1     win2     win3     win4    ...       1over5  \\\n",
       "1         36.393828  2940.0  10078.0  24079.0  46313.0    ...     0.039028   \n",
       "2    -321123.118894     0.0      0.0   1644.0   6880.0    ...     0.000000   \n",
       "3         34.594272   516.0    764.0   2186.0  24489.0    ...     0.017730   \n",
       "4          0.533570   552.0    745.0   1316.0   2770.0    ...     0.137966   \n",
       "5          0.342141     0.0      0.0     39.0    118.0    ...     0.000000   \n",
       "\n",
       "     2over5    3over5    4over5    1over4    2over4    3over4    1over3  \\\n",
       "1  0.133785  0.319647  0.614802  0.063480  0.217602  0.519908  0.122093   \n",
       "2  0.000000  0.238919  0.999855  0.000000  0.000000  0.238919  0.000000   \n",
       "3  0.026251  0.075110  0.841431  0.021070  0.031196  0.089261  0.235940   \n",
       "4  0.186203  0.328918  0.692327  0.199206  0.268856  0.474919  0.419134   \n",
       "5  0.000000  0.120370  0.364198  0.000000  0.000000  0.327731  0.000000   \n",
       "\n",
       "     2over3    1over2  \n",
       "1  0.418522  0.291696  \n",
       "2  0.000000  0.000000  \n",
       "3  0.349337  0.674510  \n",
       "4  0.565680  0.739946  \n",
       "5  0.000000  0.000000  \n",
       "\n",
       "[5 rows x 24 columns]"
      ]
     },
     "execution_count": 172,
     "metadata": {},
     "output_type": "execute_result"
    }
   ],
   "source": [
    "x_y_lr.head()"
   ]
  },
  {
   "cell_type": "code",
   "execution_count": 173,
   "metadata": {
    "collapsed": true
   },
   "outputs": [],
   "source": [
    "def norm(pd_series):\n",
    "    return (pd_series - pd_series.mean()) / pd_series.std()"
   ]
  },
  {
   "cell_type": "code",
   "execution_count": 174,
   "metadata": {
    "collapsed": false
   },
   "outputs": [
    {
     "name": "stderr",
     "output_type": "stream",
     "text": [
      "D:\\Anaconda\\lib\\site-packages\\pandas\\core\\generic.py:3110: SettingWithCopyWarning: \n",
      "A value is trying to be set on a copy of a slice from a DataFrame.\n",
      "Try using .loc[row_indexer,col_indexer] = value instead\n",
      "\n",
      "See the caveats in the documentation: http://pandas.pydata.org/pandas-docs/stable/indexing.html#indexing-view-versus-copy\n",
      "  self[name] = value\n"
     ]
    }
   ],
   "source": [
    "x_y_lr.for_count = norm(x_y_lr.for_count)"
   ]
  },
  {
   "cell_type": "code",
   "execution_count": 175,
   "metadata": {
    "collapsed": true
   },
   "outputs": [],
   "source": [
    "x_y_lr.play_time = norm(x_y_lr.play_time)"
   ]
  },
  {
   "cell_type": "code",
   "execution_count": 176,
   "metadata": {
    "collapsed": true
   },
   "outputs": [],
   "source": [
    "x_y_lr.completion_ratio = norm(x_y_lr.completion_ratio)"
   ]
  },
  {
   "cell_type": "code",
   "execution_count": 177,
   "metadata": {
    "collapsed": true
   },
   "outputs": [],
   "source": [
    "x_y_lr.win1 = norm(x_y_lr.win1)"
   ]
  },
  {
   "cell_type": "code",
   "execution_count": 178,
   "metadata": {
    "collapsed": true
   },
   "outputs": [],
   "source": [
    "x_y_lr.win2 = norm(x_y_lr.win2)"
   ]
  },
  {
   "cell_type": "code",
   "execution_count": 179,
   "metadata": {
    "collapsed": true
   },
   "outputs": [],
   "source": [
    "x_y_lr.win3 = norm(x_y_lr.win3)"
   ]
  },
  {
   "cell_type": "code",
   "execution_count": 180,
   "metadata": {
    "collapsed": true
   },
   "outputs": [],
   "source": [
    "x_y_lr.win4 = norm(x_y_lr.win4)"
   ]
  },
  {
   "cell_type": "code",
   "execution_count": 181,
   "metadata": {
    "collapsed": true
   },
   "outputs": [],
   "source": [
    "x_y_lr.win5 = norm(x_y_lr.win5)"
   ]
  },
  {
   "cell_type": "code",
   "execution_count": 166,
   "metadata": {
    "collapsed": false
   },
   "outputs": [],
   "source": [
    "# import math\n",
    "# x_y_lr['for_count'] = x_y_lr.for_count.apply(lambda x : math.log(x+0.1,10)).values"
   ]
  },
  {
   "cell_type": "code",
   "execution_count": 167,
   "metadata": {
    "collapsed": false
   },
   "outputs": [],
   "source": [
    "# x_y_lr['play_time'] = x_y_lr.play_time.apply(lambda x : math.log(x+0.1,10)).values"
   ]
  },
  {
   "cell_type": "code",
   "execution_count": 168,
   "metadata": {
    "collapsed": false
   },
   "outputs": [],
   "source": [
    "# x_y_lr['completion_ratio'] = x_y_lr.completion_ratio.apply(lambda x :  math.log(1.01-x,10)+2).values"
   ]
  },
  {
   "cell_type": "code",
   "execution_count": null,
   "metadata": {
    "collapsed": true
   },
   "outputs": [],
   "source": [
    "# x_y_lr['win1'] = x_y_lr.win1.apply(lambda x : math.log(x+0.1,10)).values"
   ]
  },
  {
   "cell_type": "code",
   "execution_count": null,
   "metadata": {
    "collapsed": true
   },
   "outputs": [],
   "source": [
    "# x_y_lr['win2'] = x_y_lr.win2.apply(lambda x : math.log(x+0.1,10)).values"
   ]
  },
  {
   "cell_type": "code",
   "execution_count": null,
   "metadata": {
    "collapsed": true
   },
   "outputs": [],
   "source": [
    "# x_y_lr['win3'] = x_y_lr.win3.apply(lambda x : math.log(x+0.1,10)).values"
   ]
  },
  {
   "cell_type": "code",
   "execution_count": null,
   "metadata": {
    "collapsed": true
   },
   "outputs": [],
   "source": [
    "# x_y_lr['win4'] = x_y_lr.win4.apply(lambda x : math.log(x+0.1,10)).values"
   ]
  },
  {
   "cell_type": "code",
   "execution_count": null,
   "metadata": {
    "collapsed": true
   },
   "outputs": [],
   "source": [
    "# x_y_lr['win5'] = x_y_lr.win5.apply(lambda x : math.log(x+0.1,10)).values"
   ]
  },
  {
   "cell_type": "code",
   "execution_count": 183,
   "metadata": {
    "collapsed": true
   },
   "outputs": [],
   "source": [
    "xs = x_y_lr.drop(['label', 'is_train', 'uid'],axis = 1)"
   ]
  },
  {
   "cell_type": "code",
   "execution_count": 184,
   "metadata": {
    "collapsed": true
   },
   "outputs": [],
   "source": [
    "features = xs.columns"
   ]
  },
  {
   "cell_type": "code",
   "execution_count": 185,
   "metadata": {
    "collapsed": false
   },
   "outputs": [
    {
     "data": {
      "text/plain": [
       "Index([u'for_count', u'favorite_device', u'play_time', u'completion_ratio',\n",
       "       u'win1', u'win2', u'win3', u'win4', u'win5', u'song language',\n",
       "       u'song_type', u'1over5', u'2over5', u'3over5', u'4over5', u'1over4',\n",
       "       u'2over4', u'3over4', u'1over3', u'2over3', u'1over2'],\n",
       "      dtype='object')"
      ]
     },
     "execution_count": 185,
     "metadata": {},
     "output_type": "execute_result"
    }
   ],
   "source": [
    "features"
   ]
  },
  {
   "cell_type": "code",
   "execution_count": 186,
   "metadata": {
    "collapsed": true
   },
   "outputs": [],
   "source": [
    "x = x_y_lr[features]"
   ]
  },
  {
   "cell_type": "code",
   "execution_count": 187,
   "metadata": {
    "collapsed": true
   },
   "outputs": [],
   "source": [
    "y = x_y_lr['label']"
   ]
  },
  {
   "cell_type": "code",
   "execution_count": 188,
   "metadata": {
    "collapsed": true
   },
   "outputs": [],
   "source": [
    "x_train, x_test, y_train, y_test = train_test_split(x, y, test_size=0.3, random_state=42)"
   ]
  },
  {
   "cell_type": "code",
   "execution_count": 189,
   "metadata": {
    "collapsed": true
   },
   "outputs": [],
   "source": [
    "from sklearn.linear_model import LogisticRegression\n",
    "\n",
    "model_lr = LogisticRegression(penalty = 'l2',C= 1, n_jobs = -1)"
   ]
  },
  {
   "cell_type": "code",
   "execution_count": 190,
   "metadata": {
    "collapsed": false
   },
   "outputs": [
    {
     "data": {
      "text/plain": [
       "[[0.001, 0.72422912446545129, 0.72561375869764999],\n",
       " [0.01, 0.7317128066621652, 0.73125902586320068],\n",
       " [0.1, 0.73638307449921225, 0.73467244321911518],\n",
       " [1, 0.73975917173081251, 0.7391361428383878],\n",
       " [10, 0.73953409858203911, 0.73966128397006692],\n",
       " [100, 0.73897141571010583, 0.73926742812130763],\n",
       " [1000, 0.73914022057168582, 0.73926742812130763]]"
      ]
     },
     "execution_count": 190,
     "metadata": {},
     "output_type": "execute_result"
    }
   ],
   "source": [
    "accuracies = []\n",
    "#accuracies.columns = ['regularization','Accuracy_score_train','Accuracy_score_test']\n",
    "for c in [1e-3,1e-2,0.1,1,10,100,1000]:\n",
    "    model_lr = LogisticRegression(penalty = 'l2',C= c, n_jobs = -1)\n",
    "    model_lr.fit(x_train, y_train)\n",
    "    accuracies.append([c,model_lr.score(x_train, y_train), model_lr.score(x_test, y_test)])\n",
    "    \n",
    "accuracies"
   ]
  },
  {
   "cell_type": "code",
   "execution_count": 192,
   "metadata": {
    "collapsed": false
   },
   "outputs": [
    {
     "data": {
      "text/plain": [
       "(0.73705829394553235, 0.73493501378495474)"
      ]
     },
     "execution_count": 192,
     "metadata": {},
     "output_type": "execute_result"
    }
   ],
   "source": [
    "model_lr = LogisticRegression(penalty = 'l1',C= 0.1, n_jobs = -1)\n",
    "model_lr.fit(x_train, y_train)\n",
    "model_lr.score(x_train, y_train), model_lr.score(x_test, y_test)"
   ]
  },
  {
   "cell_type": "code",
   "execution_count": 193,
   "metadata": {
    "collapsed": false
   },
   "outputs": [
    {
     "data": {
      "text/plain": [
       "array([[ 0.        ,  0.52025747,  0.02465151, -0.10327405,  0.16531955,\n",
       "        -0.30867494, -0.81722964, -0.0956015 , -0.50312397,  0.00828831,\n",
       "         0.10620456,  0.        ,  0.49442586,  1.02532109, -1.43103049,\n",
       "         0.33872147,  1.56674317, -1.6373869 ,  1.27774375, -2.04843066,\n",
       "        -1.73811973]])"
      ]
     },
     "execution_count": 193,
     "metadata": {},
     "output_type": "execute_result"
    }
   ],
   "source": [
    "model_lr.coef_"
   ]
  },
  {
   "cell_type": "code",
   "execution_count": 195,
   "metadata": {
    "collapsed": false
   },
   "outputs": [
    {
     "data": {
      "text/html": [
       "<div>\n",
       "<style>\n",
       "    .dataframe thead tr:only-child th {\n",
       "        text-align: right;\n",
       "    }\n",
       "\n",
       "    .dataframe thead th {\n",
       "        text-align: left;\n",
       "    }\n",
       "\n",
       "    .dataframe tbody tr th {\n",
       "        vertical-align: top;\n",
       "    }\n",
       "</style>\n",
       "<table border=\"1\" class=\"dataframe\">\n",
       "  <thead>\n",
       "    <tr style=\"text-align: right;\">\n",
       "      <th></th>\n",
       "      <th>feature</th>\n",
       "      <th>coeff</th>\n",
       "    </tr>\n",
       "  </thead>\n",
       "  <tbody>\n",
       "    <tr>\n",
       "      <th>16</th>\n",
       "      <td>2over4</td>\n",
       "      <td>1.566743</td>\n",
       "    </tr>\n",
       "    <tr>\n",
       "      <th>18</th>\n",
       "      <td>1over3</td>\n",
       "      <td>1.277744</td>\n",
       "    </tr>\n",
       "    <tr>\n",
       "      <th>13</th>\n",
       "      <td>3over5</td>\n",
       "      <td>1.025321</td>\n",
       "    </tr>\n",
       "    <tr>\n",
       "      <th>1</th>\n",
       "      <td>favorite_device</td>\n",
       "      <td>0.520257</td>\n",
       "    </tr>\n",
       "    <tr>\n",
       "      <th>12</th>\n",
       "      <td>2over5</td>\n",
       "      <td>0.494426</td>\n",
       "    </tr>\n",
       "    <tr>\n",
       "      <th>15</th>\n",
       "      <td>1over4</td>\n",
       "      <td>0.338721</td>\n",
       "    </tr>\n",
       "    <tr>\n",
       "      <th>4</th>\n",
       "      <td>win1</td>\n",
       "      <td>0.165320</td>\n",
       "    </tr>\n",
       "    <tr>\n",
       "      <th>10</th>\n",
       "      <td>song_type</td>\n",
       "      <td>0.106205</td>\n",
       "    </tr>\n",
       "    <tr>\n",
       "      <th>2</th>\n",
       "      <td>play_time</td>\n",
       "      <td>0.024652</td>\n",
       "    </tr>\n",
       "    <tr>\n",
       "      <th>9</th>\n",
       "      <td>song language</td>\n",
       "      <td>0.008288</td>\n",
       "    </tr>\n",
       "    <tr>\n",
       "      <th>0</th>\n",
       "      <td>for_count</td>\n",
       "      <td>0.000000</td>\n",
       "    </tr>\n",
       "    <tr>\n",
       "      <th>11</th>\n",
       "      <td>1over5</td>\n",
       "      <td>0.000000</td>\n",
       "    </tr>\n",
       "    <tr>\n",
       "      <th>7</th>\n",
       "      <td>win4</td>\n",
       "      <td>-0.095602</td>\n",
       "    </tr>\n",
       "    <tr>\n",
       "      <th>3</th>\n",
       "      <td>completion_ratio</td>\n",
       "      <td>-0.103274</td>\n",
       "    </tr>\n",
       "    <tr>\n",
       "      <th>5</th>\n",
       "      <td>win2</td>\n",
       "      <td>-0.308675</td>\n",
       "    </tr>\n",
       "    <tr>\n",
       "      <th>8</th>\n",
       "      <td>win5</td>\n",
       "      <td>-0.503124</td>\n",
       "    </tr>\n",
       "    <tr>\n",
       "      <th>6</th>\n",
       "      <td>win3</td>\n",
       "      <td>-0.817230</td>\n",
       "    </tr>\n",
       "    <tr>\n",
       "      <th>14</th>\n",
       "      <td>4over5</td>\n",
       "      <td>-1.431030</td>\n",
       "    </tr>\n",
       "    <tr>\n",
       "      <th>17</th>\n",
       "      <td>3over4</td>\n",
       "      <td>-1.637387</td>\n",
       "    </tr>\n",
       "    <tr>\n",
       "      <th>20</th>\n",
       "      <td>1over2</td>\n",
       "      <td>-1.738120</td>\n",
       "    </tr>\n",
       "    <tr>\n",
       "      <th>19</th>\n",
       "      <td>2over3</td>\n",
       "      <td>-2.048431</td>\n",
       "    </tr>\n",
       "  </tbody>\n",
       "</table>\n",
       "</div>"
      ],
      "text/plain": [
       "             feature     coeff\n",
       "16            2over4  1.566743\n",
       "18            1over3  1.277744\n",
       "13            3over5  1.025321\n",
       "1    favorite_device  0.520257\n",
       "12            2over5  0.494426\n",
       "15            1over4  0.338721\n",
       "4               win1  0.165320\n",
       "10         song_type  0.106205\n",
       "2          play_time  0.024652\n",
       "9      song language  0.008288\n",
       "0          for_count  0.000000\n",
       "11            1over5  0.000000\n",
       "7               win4 -0.095602\n",
       "3   completion_ratio -0.103274\n",
       "5               win2 -0.308675\n",
       "8               win5 -0.503124\n",
       "6               win3 -0.817230\n",
       "14            4over5 -1.431030\n",
       "17            3over4 -1.637387\n",
       "20            1over2 -1.738120\n",
       "19            2over3 -2.048431"
      ]
     },
     "execution_count": 195,
     "metadata": {},
     "output_type": "execute_result"
    }
   ],
   "source": [
    "coeffs = model_lr.coef_[0]\n",
    "df_coeffs = pd.DataFrame(list(zip(features, coeffs))).sort_values(by=[1], ascending=True)\n",
    "df_coeffs.columns = ['feature', 'coeff']\n",
    "df_coeffs.iloc[::-1,:]"
   ]
  },
  {
   "cell_type": "code",
   "execution_count": 196,
   "metadata": {
    "collapsed": false
   },
   "outputs": [
    {
     "data": {
      "image/png": "[encoded data removed]",
      "text/plain": [
       "<matplotlib.figure.Figure at 0x1521f630>"
      ]
     },
     "metadata": {},
     "output_type": "display_data"
    }
   ],
   "source": [
    "ax = df_coeffs.plot.barh(color = 'b')\n",
    "t = np.arange(x.shape[1])\n",
    "ax.set_yticks(t)\n",
    "ax.set_yticklabels(df_coeffs['feature'])\n",
    "plt.rcParams[\"figure.figsize\"] = (8,8)\n",
    "plt.show()"
   ]
  },
  {
   "cell_type": "code",
   "execution_count": 198,
   "metadata": {
    "collapsed": false
   },
   "outputs": [
    {
     "ename": "IndexError",
     "evalue": "list index out of range",
     "output_type": "error",
     "traceback": [
      "\u001b[0;31m---------------------------------------------------------------------------\u001b[0m",
      "\u001b[0;31mIndexError\u001b[0m                                Traceback (most recent call last)",
      "\u001b[0;32m<ipython-input-198-ae559caf70ab>\u001b[0m in \u001b[0;36m<module>\u001b[0;34m()\u001b[0m\n\u001b[0;32m----> 1\u001b[0;31m \u001b[0mimportant_features\u001b[0m \u001b[1;33m=\u001b[0m \u001b[1;33m[\u001b[0m\u001b[0mcolumns\u001b[0m\u001b[1;33m[\u001b[0m\u001b[0mi\u001b[0m\u001b[1;33m]\u001b[0m \u001b[1;32mfor\u001b[0m \u001b[0mi\u001b[0m \u001b[1;32min\u001b[0m \u001b[0mnp\u001b[0m\u001b[1;33m.\u001b[0m\u001b[0margsort\u001b[0m\u001b[1;33m(\u001b[0m\u001b[0mabs\u001b[0m\u001b[1;33m(\u001b[0m\u001b[0mcoeffs\u001b[0m\u001b[1;33m)\u001b[0m\u001b[1;33m)\u001b[0m\u001b[1;33m]\u001b[0m\u001b[1;33m[\u001b[0m\u001b[1;33m-\u001b[0m\u001b[1;36m1\u001b[0m\u001b[1;33m:\u001b[0m\u001b[1;33m-\u001b[0m\u001b[1;36m8\u001b[0m\u001b[1;33m:\u001b[0m\u001b[1;33m-\u001b[0m\u001b[1;36m1\u001b[0m\u001b[1;33m]\u001b[0m\u001b[1;33m\u001b[0m\u001b[0m\n\u001b[0m\u001b[1;32m      2\u001b[0m \u001b[0mimportant_features\u001b[0m\u001b[1;33m\u001b[0m\u001b[0m\n",
      "\u001b[0;31mIndexError\u001b[0m: list index out of range"
     ]
    }
   ],
   "source": [
    "important_features = [columns[i] for i in np.argsort(abs(coeffs))][-1:-8:-1]\n",
    "important_features"
   ]
  },
  {
   "cell_type": "code",
   "execution_count": null,
   "metadata": {
    "collapsed": true
   },
   "outputs": [],
   "source": []
  },
  {
   "cell_type": "code",
   "execution_count": 143,
   "metadata": {
    "collapsed": false
   },
   "outputs": [
    {
     "name": "stdout",
     "output_type": "stream",
     "text": [
      "{'C': 0.001}\n"
     ]
    }
   ],
   "source": [
    "# param_grid={'C': [0.001, 0.01, 0.1, 1, 10, 100, 1000]}\n",
    "# lr = GridSearchCV(LogisticRegression(penalty='l2'), param_grid, cv=4, scoring='accuracy')\n",
    "# lr.fit(x_train_1, y_train_1)\n",
    "# print lr.best_params_\n",
    "\n",
    "# GridSearchCV(cv=None,\n",
    "#        estimator=LogisticRegression(C=1.0, intercept_scaling=1, dual=False, fit_intercept=True,\n",
    "#           penalty='l2', tol=0.0001),\n",
    "#        param_grid={'C': [0.001, 0.01, 0.1, 1, 10, 100, 1000]})\n",
    "# You can use grid search to find out the best C value for you. Basically smaller C specify stronger regularization.\n",
    "\n",
    "\n",
    "\n",
    "# tuned_parameters = {'C': [0.1, 0.5, 1, 5, 10, 50, 100]}\n",
    "# clf = GridSearchCV(LogisticRegression(solver='liblinear'), tuned_parameters, cv=3, scoring=\"accuracy\")\n",
    "# clf.fit(X_train, y_train)\n",
    "\n"
   ]
  }
 ],
 "metadata": {
  "anaconda-cloud": {},
  "kernelspec": {
   "display_name": "Python [conda root]",
   "language": "python",
   "name": "conda-root-py"
  },
  "language_info": {
   "codemirror_mode": {
    "name": "ipython",
    "version": 2
   },
   "file_extension": ".py",
   "mimetype": "text/x-python",
   "name": "python",
   "nbconvert_exporter": "python",
   "pygments_lexer": "ipython2",
   "version": "2.7.13"
  }
 },
 "nbformat": 4,
 "nbformat_minor": 2
}
